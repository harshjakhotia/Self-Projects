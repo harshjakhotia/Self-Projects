{
  "nbformat": 4,
  "nbformat_minor": 0,
  "metadata": {
    "colab": {
      "provenance": []
    },
    "kernelspec": {
      "name": "python3",
      "display_name": "Python 3"
    },
    "language_info": {
      "name": "python"
    },
    "accelerator": "GPU",
    "gpuClass": "standard"
  },
  "cells": [
    {
      "cell_type": "code",
      "execution_count": null,
      "metadata": {
        "colab": {
          "base_uri": "https://localhost:8080/"
        },
        "id": "9uaiDf9N9zWN",
        "outputId": "395fdf67-e523-4e83-97b4-c8f65847d1cc"
      },
      "outputs": [
        {
          "output_type": "stream",
          "name": "stdout",
          "text": [
            "Mounted at /content/drive\n"
          ]
        }
      ],
      "source": [
        "from google.colab import drive\n",
        "drive.mount('/content/drive')"
      ]
    },
    {
      "cell_type": "code",
      "source": [
        "%matplotlib inline\n",
        "import matplotlib.pyplot as plt\n",
        "import seaborn as sns\n",
        "import pandas as pd\n",
        "from statsmodels import api as sm\n",
        "import numpy as np\n"
      ],
      "metadata": {
        "id": "euhWdhweBArP"
      },
      "execution_count": null,
      "outputs": []
    },
    {
      "cell_type": "code",
      "source": [
        "df=pd.read_csv('/content/drive/MyDrive/DA2023/train.csv')"
      ],
      "metadata": {
        "id": "Fzt5URdPAvyM"
      },
      "execution_count": null,
      "outputs": []
    },
    {
      "cell_type": "code",
      "source": [
        "# df"
      ],
      "metadata": {
        "id": "MBvzW2CCBESE"
      },
      "execution_count": null,
      "outputs": []
    },
    {
      "cell_type": "code",
      "source": [
        "from tqdm import tqdm"
      ],
      "metadata": {
        "id": "VmDcNIteHp8L"
      },
      "execution_count": null,
      "outputs": []
    },
    {
      "cell_type": "code",
      "source": [
        "for i in df.columns[2:]:\n",
        "  df[i] = df[i].fillna(df[\"Id\"])"
      ],
      "metadata": {
        "id": "W6h1wRVtH0W8"
      },
      "execution_count": null,
      "outputs": []
    },
    {
      "cell_type": "code",
      "source": [
        "x1 = df[df[\"Time\"]==1.0][\"Sensor_1\"].reset_index(drop=True)\n",
        "x2 = df[df[\"Time\"]==2.0][\"Sensor_1\"].reset_index(drop=True)\n",
        "x3 = df[df[\"Time\"]==3.0][\"Sensor_1\"].reset_index(drop=True)\n",
        "x4 = df[df[\"Time\"]==4.0][\"Sensor_1\"].reset_index(drop=True)\n",
        "x5 = df[df[\"Time\"]==5.0][\"Sensor_1\"].reset_index(drop=True)\n",
        "x6 = df[df[\"Time\"]==6.0][\"Sensor_1\"].reset_index(drop=True)\n",
        "x7 = df[df[\"Time\"]==7.0][\"Sensor_1\"].reset_index(drop=True)\n",
        "x8 = df[df[\"Time\"]==8.0][\"Sensor_1\"].reset_index(drop=True)\n",
        "x9= df[df[\"Time\"]==9.0][\"Sensor_1\"].reset_index(drop=True)\n",
        "x10 = df[df[\"Time\"]==10.0][\"Sensor_1\"].reset_index(drop=True)\n",
        "\n",
        "target = df[df[\"Time\"].isna()][\"Sensor_1\"].reset_index(drop=True)\n",
        "\n",
        "\n"
      ],
      "metadata": {
        "id": "EpNSHl3LJLfq"
      },
      "execution_count": null,
      "outputs": []
    },
    {
      "cell_type": "code",
      "source": [
        "sensor1_df = pd.concat([x1, x2, x3, x4, x5 ,x6, x7, x8, x9, x10], axis = 1)"
      ],
      "metadata": {
        "id": "9FQYoSqMKDYN"
      },
      "execution_count": null,
      "outputs": []
    },
    {
      "cell_type": "code",
      "source": [
        "sensor1_df=sensor1_df.set_axis(['t1','t2','t3','t4','t5','t6','t7','t8','t9','t10'], axis=1, inplace=False)"
      ],
      "metadata": {
        "id": "iZeL7spkLyI5"
      },
      "execution_count": null,
      "outputs": []
    },
    {
      "cell_type": "code",
      "source": [
        "sensor1_df['label']=target"
      ],
      "metadata": {
        "id": "V2mN-OquMxeJ"
      },
      "execution_count": null,
      "outputs": []
    },
    {
      "cell_type": "code",
      "source": [],
      "metadata": {
        "id": "wX-63t8hSJMe"
      },
      "execution_count": null,
      "outputs": []
    },
    {
      "cell_type": "code",
      "source": [
        "#Splitting into training ans testing data\n",
        "from sklearn.model_selection import train_test_split\n",
        "X_train,X_test,target_train,target_test=train_test_split(sensor1_df,target,test_size=1/5,random_state=0)"
      ],
      "metadata": {
        "id": "j83H3yQGOgVJ"
      },
      "execution_count": null,
      "outputs": []
    },
    {
      "cell_type": "markdown",
      "source": [],
      "metadata": {
        "id": "vYoB9LvJFD_a"
      }
    },
    {
      "cell_type": "code",
      "source": [
        "target=sensor1_df.pop('label')"
      ],
      "metadata": {
        "id": "isNINfy0Y8b3"
      },
      "execution_count": null,
      "outputs": []
    },
    {
      "cell_type": "code",
      "source": [
        "sensor1_df_small=sensor1_df.iloc[0:100]"
      ],
      "metadata": {
        "id": "l0HF3oRMZMQV"
      },
      "execution_count": null,
      "outputs": []
    },
    {
      "cell_type": "code",
      "source": [
        "sensor1_df_small"
      ],
      "metadata": {
        "colab": {
          "base_uri": "https://localhost:8080/",
          "height": 424
        },
        "id": "U7fDmE23Znhs",
        "outputId": "ea97c5fc-9d2f-48c6-e3a0-ef57a322b920"
      },
      "execution_count": null,
      "outputs": [
        {
          "output_type": "execute_result",
          "data": {
            "text/plain": [
              "        t1      t2      t3      t4      t5      t6      t7      t8      t9  \\\n",
              "0   0.4337  0.7859  0.0512  0.0413  0.7042  0.9538  0.6729  0.3945  0.7368   \n",
              "1   0.4013  0.0451  0.6802  0.9324  0.8794  0.8832  0.7994  0.0529  0.8480   \n",
              "2   0.8912  0.6556  0.2383  0.6486  0.0256  0.5247  0.1172  0.1756  0.3175   \n",
              "3   0.4849  0.3955  0.2486  0.2582  0.0788  0.5933  0.7447  0.8624  0.9079   \n",
              "4   0.2426  0.8799  0.6755  0.4607  0.8491  0.2731  0.0945  0.1521  0.6155   \n",
              "..     ...     ...     ...     ...     ...     ...     ...     ...     ...   \n",
              "95  0.2763  0.2628  0.5172  0.1561  0.0795  0.8115  0.0398  0.0078  0.4071   \n",
              "96  0.0330  0.0391  0.6928  0.7248  0.0198  0.1607  0.6607  0.4172  0.9249   \n",
              "97  0.0519  0.7009  0.9755  0.0520  0.0537  0.4050  0.8050  0.1048  0.8613   \n",
              "98  0.5533  0.2858  0.1401  0.9744  0.8593  0.3779  0.7435  0.7198  0.5911   \n",
              "99  0.5281  0.9874  0.7963  0.0252  0.0183  0.9852  0.1329  0.1034  0.2928   \n",
              "\n",
              "       t10  \n",
              "0   0.6752  \n",
              "1   0.3760  \n",
              "2   0.1214  \n",
              "3   0.2777  \n",
              "4   0.4136  \n",
              "..     ...  \n",
              "95  0.9322  \n",
              "96  0.3586  \n",
              "97  0.4129  \n",
              "98  0.1509  \n",
              "99  0.6466  \n",
              "\n",
              "[100 rows x 10 columns]"
            ],
            "text/html": [
              "\n",
              "  <div id=\"df-9ab933c5-516e-4c08-a00b-e4c927f79c8d\">\n",
              "    <div class=\"colab-df-container\">\n",
              "      <div>\n",
              "<style scoped>\n",
              "    .dataframe tbody tr th:only-of-type {\n",
              "        vertical-align: middle;\n",
              "    }\n",
              "\n",
              "    .dataframe tbody tr th {\n",
              "        vertical-align: top;\n",
              "    }\n",
              "\n",
              "    .dataframe thead th {\n",
              "        text-align: right;\n",
              "    }\n",
              "</style>\n",
              "<table border=\"1\" class=\"dataframe\">\n",
              "  <thead>\n",
              "    <tr style=\"text-align: right;\">\n",
              "      <th></th>\n",
              "      <th>t1</th>\n",
              "      <th>t2</th>\n",
              "      <th>t3</th>\n",
              "      <th>t4</th>\n",
              "      <th>t5</th>\n",
              "      <th>t6</th>\n",
              "      <th>t7</th>\n",
              "      <th>t8</th>\n",
              "      <th>t9</th>\n",
              "      <th>t10</th>\n",
              "    </tr>\n",
              "  </thead>\n",
              "  <tbody>\n",
              "    <tr>\n",
              "      <th>0</th>\n",
              "      <td>0.4337</td>\n",
              "      <td>0.7859</td>\n",
              "      <td>0.0512</td>\n",
              "      <td>0.0413</td>\n",
              "      <td>0.7042</td>\n",
              "      <td>0.9538</td>\n",
              "      <td>0.6729</td>\n",
              "      <td>0.3945</td>\n",
              "      <td>0.7368</td>\n",
              "      <td>0.6752</td>\n",
              "    </tr>\n",
              "    <tr>\n",
              "      <th>1</th>\n",
              "      <td>0.4013</td>\n",
              "      <td>0.0451</td>\n",
              "      <td>0.6802</td>\n",
              "      <td>0.9324</td>\n",
              "      <td>0.8794</td>\n",
              "      <td>0.8832</td>\n",
              "      <td>0.7994</td>\n",
              "      <td>0.0529</td>\n",
              "      <td>0.8480</td>\n",
              "      <td>0.3760</td>\n",
              "    </tr>\n",
              "    <tr>\n",
              "      <th>2</th>\n",
              "      <td>0.8912</td>\n",
              "      <td>0.6556</td>\n",
              "      <td>0.2383</td>\n",
              "      <td>0.6486</td>\n",
              "      <td>0.0256</td>\n",
              "      <td>0.5247</td>\n",
              "      <td>0.1172</td>\n",
              "      <td>0.1756</td>\n",
              "      <td>0.3175</td>\n",
              "      <td>0.1214</td>\n",
              "    </tr>\n",
              "    <tr>\n",
              "      <th>3</th>\n",
              "      <td>0.4849</td>\n",
              "      <td>0.3955</td>\n",
              "      <td>0.2486</td>\n",
              "      <td>0.2582</td>\n",
              "      <td>0.0788</td>\n",
              "      <td>0.5933</td>\n",
              "      <td>0.7447</td>\n",
              "      <td>0.8624</td>\n",
              "      <td>0.9079</td>\n",
              "      <td>0.2777</td>\n",
              "    </tr>\n",
              "    <tr>\n",
              "      <th>4</th>\n",
              "      <td>0.2426</td>\n",
              "      <td>0.8799</td>\n",
              "      <td>0.6755</td>\n",
              "      <td>0.4607</td>\n",
              "      <td>0.8491</td>\n",
              "      <td>0.2731</td>\n",
              "      <td>0.0945</td>\n",
              "      <td>0.1521</td>\n",
              "      <td>0.6155</td>\n",
              "      <td>0.4136</td>\n",
              "    </tr>\n",
              "    <tr>\n",
              "      <th>...</th>\n",
              "      <td>...</td>\n",
              "      <td>...</td>\n",
              "      <td>...</td>\n",
              "      <td>...</td>\n",
              "      <td>...</td>\n",
              "      <td>...</td>\n",
              "      <td>...</td>\n",
              "      <td>...</td>\n",
              "      <td>...</td>\n",
              "      <td>...</td>\n",
              "    </tr>\n",
              "    <tr>\n",
              "      <th>95</th>\n",
              "      <td>0.2763</td>\n",
              "      <td>0.2628</td>\n",
              "      <td>0.5172</td>\n",
              "      <td>0.1561</td>\n",
              "      <td>0.0795</td>\n",
              "      <td>0.8115</td>\n",
              "      <td>0.0398</td>\n",
              "      <td>0.0078</td>\n",
              "      <td>0.4071</td>\n",
              "      <td>0.9322</td>\n",
              "    </tr>\n",
              "    <tr>\n",
              "      <th>96</th>\n",
              "      <td>0.0330</td>\n",
              "      <td>0.0391</td>\n",
              "      <td>0.6928</td>\n",
              "      <td>0.7248</td>\n",
              "      <td>0.0198</td>\n",
              "      <td>0.1607</td>\n",
              "      <td>0.6607</td>\n",
              "      <td>0.4172</td>\n",
              "      <td>0.9249</td>\n",
              "      <td>0.3586</td>\n",
              "    </tr>\n",
              "    <tr>\n",
              "      <th>97</th>\n",
              "      <td>0.0519</td>\n",
              "      <td>0.7009</td>\n",
              "      <td>0.9755</td>\n",
              "      <td>0.0520</td>\n",
              "      <td>0.0537</td>\n",
              "      <td>0.4050</td>\n",
              "      <td>0.8050</td>\n",
              "      <td>0.1048</td>\n",
              "      <td>0.8613</td>\n",
              "      <td>0.4129</td>\n",
              "    </tr>\n",
              "    <tr>\n",
              "      <th>98</th>\n",
              "      <td>0.5533</td>\n",
              "      <td>0.2858</td>\n",
              "      <td>0.1401</td>\n",
              "      <td>0.9744</td>\n",
              "      <td>0.8593</td>\n",
              "      <td>0.3779</td>\n",
              "      <td>0.7435</td>\n",
              "      <td>0.7198</td>\n",
              "      <td>0.5911</td>\n",
              "      <td>0.1509</td>\n",
              "    </tr>\n",
              "    <tr>\n",
              "      <th>99</th>\n",
              "      <td>0.5281</td>\n",
              "      <td>0.9874</td>\n",
              "      <td>0.7963</td>\n",
              "      <td>0.0252</td>\n",
              "      <td>0.0183</td>\n",
              "      <td>0.9852</td>\n",
              "      <td>0.1329</td>\n",
              "      <td>0.1034</td>\n",
              "      <td>0.2928</td>\n",
              "      <td>0.6466</td>\n",
              "    </tr>\n",
              "  </tbody>\n",
              "</table>\n",
              "<p>100 rows × 10 columns</p>\n",
              "</div>\n",
              "      <button class=\"colab-df-convert\" onclick=\"convertToInteractive('df-9ab933c5-516e-4c08-a00b-e4c927f79c8d')\"\n",
              "              title=\"Convert this dataframe to an interactive table.\"\n",
              "              style=\"display:none;\">\n",
              "        \n",
              "  <svg xmlns=\"http://www.w3.org/2000/svg\" height=\"24px\"viewBox=\"0 0 24 24\"\n",
              "       width=\"24px\">\n",
              "    <path d=\"M0 0h24v24H0V0z\" fill=\"none\"/>\n",
              "    <path d=\"M18.56 5.44l.94 2.06.94-2.06 2.06-.94-2.06-.94-.94-2.06-.94 2.06-2.06.94zm-11 1L8.5 8.5l.94-2.06 2.06-.94-2.06-.94L8.5 2.5l-.94 2.06-2.06.94zm10 10l.94 2.06.94-2.06 2.06-.94-2.06-.94-.94-2.06-.94 2.06-2.06.94z\"/><path d=\"M17.41 7.96l-1.37-1.37c-.4-.4-.92-.59-1.43-.59-.52 0-1.04.2-1.43.59L10.3 9.45l-7.72 7.72c-.78.78-.78 2.05 0 2.83L4 21.41c.39.39.9.59 1.41.59.51 0 1.02-.2 1.41-.59l7.78-7.78 2.81-2.81c.8-.78.8-2.07 0-2.86zM5.41 20L4 18.59l7.72-7.72 1.47 1.35L5.41 20z\"/>\n",
              "  </svg>\n",
              "      </button>\n",
              "      \n",
              "  <style>\n",
              "    .colab-df-container {\n",
              "      display:flex;\n",
              "      flex-wrap:wrap;\n",
              "      gap: 12px;\n",
              "    }\n",
              "\n",
              "    .colab-df-convert {\n",
              "      background-color: #E8F0FE;\n",
              "      border: none;\n",
              "      border-radius: 50%;\n",
              "      cursor: pointer;\n",
              "      display: none;\n",
              "      fill: #1967D2;\n",
              "      height: 32px;\n",
              "      padding: 0 0 0 0;\n",
              "      width: 32px;\n",
              "    }\n",
              "\n",
              "    .colab-df-convert:hover {\n",
              "      background-color: #E2EBFA;\n",
              "      box-shadow: 0px 1px 2px rgba(60, 64, 67, 0.3), 0px 1px 3px 1px rgba(60, 64, 67, 0.15);\n",
              "      fill: #174EA6;\n",
              "    }\n",
              "\n",
              "    [theme=dark] .colab-df-convert {\n",
              "      background-color: #3B4455;\n",
              "      fill: #D2E3FC;\n",
              "    }\n",
              "\n",
              "    [theme=dark] .colab-df-convert:hover {\n",
              "      background-color: #434B5C;\n",
              "      box-shadow: 0px 1px 3px 1px rgba(0, 0, 0, 0.15);\n",
              "      filter: drop-shadow(0px 1px 2px rgba(0, 0, 0, 0.3));\n",
              "      fill: #FFFFFF;\n",
              "    }\n",
              "  </style>\n",
              "\n",
              "      <script>\n",
              "        const buttonEl =\n",
              "          document.querySelector('#df-9ab933c5-516e-4c08-a00b-e4c927f79c8d button.colab-df-convert');\n",
              "        buttonEl.style.display =\n",
              "          google.colab.kernel.accessAllowed ? 'block' : 'none';\n",
              "\n",
              "        async function convertToInteractive(key) {\n",
              "          const element = document.querySelector('#df-9ab933c5-516e-4c08-a00b-e4c927f79c8d');\n",
              "          const dataTable =\n",
              "            await google.colab.kernel.invokeFunction('convertToInteractive',\n",
              "                                                     [key], {});\n",
              "          if (!dataTable) return;\n",
              "\n",
              "          const docLinkHtml = 'Like what you see? Visit the ' +\n",
              "            '<a target=\"_blank\" href=https://colab.research.google.com/notebooks/data_table.ipynb>data table notebook</a>'\n",
              "            + ' to learn more about interactive tables.';\n",
              "          element.innerHTML = '';\n",
              "          dataTable['output_type'] = 'display_data';\n",
              "          await google.colab.output.renderOutput(dataTable, element);\n",
              "          const docLink = document.createElement('div');\n",
              "          docLink.innerHTML = docLinkHtml;\n",
              "          element.appendChild(docLink);\n",
              "        }\n",
              "      </script>\n",
              "    </div>\n",
              "  </div>\n",
              "  "
            ]
          },
          "metadata": {},
          "execution_count": 14
        }
      ]
    },
    {
      "cell_type": "code",
      "source": [
        "df.pop('Id')\n",
        "df.pop('Time')"
      ],
      "metadata": {
        "colab": {
          "base_uri": "https://localhost:8080/"
        },
        "id": "01Ln1787fvcY",
        "outputId": "244abc8c-eb84-4274-85e0-230cc935351e"
      },
      "execution_count": null,
      "outputs": [
        {
          "output_type": "execute_result",
          "data": {
            "text/plain": [
              "0          1.0\n",
              "1          2.0\n",
              "2          3.0\n",
              "3          4.0\n",
              "4          5.0\n",
              "          ... \n",
              "549995     7.0\n",
              "549996     8.0\n",
              "549997     9.0\n",
              "549998    10.0\n",
              "549999     NaN\n",
              "Name: Time, Length: 550000, dtype: float64"
            ]
          },
          "metadata": {},
          "execution_count": 15
        }
      ]
    },
    {
      "cell_type": "code",
      "source": [
        "sequences_train = list()\n",
        "for i in range(0,30000):\n",
        "    df_temp = df.iloc[(i*11):((i+1)*11)-1]\n",
        "    values = df_temp.values\n",
        "    values = values.transpose()\n",
        "    sequences_train.append(values)\n",
        "\n",
        "target_train=target[0:30000]"
      ],
      "metadata": {
        "id": "TzXMK3pnexdT"
      },
      "execution_count": null,
      "outputs": []
    },
    {
      "cell_type": "code",
      "source": [
        "sequences_test = list()\n",
        "for i in range(30000,40000):\n",
        "    df_temp = df.iloc[(i*11):((i+1)*11)-1]\n",
        "    values = df_temp.values\n",
        "    values = values.transpose()\n",
        "    sequences_test.append(values)\n",
        "\n",
        "target_test=target[30000:40000]"
      ],
      "metadata": {
        "id": "EuZ3ahFVgify"
      },
      "execution_count": null,
      "outputs": []
    },
    {
      "cell_type": "code",
      "source": [
        "len(df)"
      ],
      "metadata": {
        "id": "PrHbC5QSqPjf",
        "colab": {
          "base_uri": "https://localhost:8080/"
        },
        "outputId": "343cbd55-6ae0-4128-a400-8397a21ec50a"
      },
      "execution_count": null,
      "outputs": [
        {
          "output_type": "execute_result",
          "data": {
            "text/plain": [
              "550000"
            ]
          },
          "metadata": {},
          "execution_count": 18
        }
      ]
    },
    {
      "cell_type": "code",
      "source": [
        "sequences_val = list()\n",
        "for i in range(40000,49500):\n",
        "    df_temp = df.iloc[(i*11):((i+1)*11)-1]\n",
        "    values = df_temp.values\n",
        "    values = values.transpose()\n",
        "    sequences_val.append(values)\n",
        "\n",
        "target_val=target[40000:49500]"
      ],
      "metadata": {
        "id": "FVuAn_grhklY"
      },
      "execution_count": null,
      "outputs": []
    },
    {
      "cell_type": "code",
      "source": [],
      "metadata": {
        "id": "-jl3ukzyhNno"
      },
      "execution_count": null,
      "outputs": []
    },
    {
      "cell_type": "code",
      "source": [
        "sequence_train=np.array(sequences_train)\n",
        "sequence_test=np.array(sequences_test)\n",
        "sequence_val=np.array(sequences_val)"
      ],
      "metadata": {
        "id": "Oy4_P6RfhNp-"
      },
      "execution_count": null,
      "outputs": []
    },
    {
      "cell_type": "code",
      "source": [
        "from keras.preprocessing import sequence\n",
        "import tensorflow as tf\n",
        "from keras.models import Sequential\n",
        "from keras.layers import Dense\n",
        "from keras.layers import LSTM\n",
        "\n",
        "from keras.optimizers import Adam\n",
        "from keras.models import load_model\n",
        "from keras.callbacks import ModelCheckpoint"
      ],
      "metadata": {
        "id": "QlqssMi0gR9l"
      },
      "execution_count": null,
      "outputs": []
    },
    {
      "cell_type": "code",
      "source": [
        "# model = Sequential()\n",
        "# model.add(LSTM(256, return_sequences=True, input_shape=(10, 25)))\n",
        "# model.add(LSTM(128, return_sequences=True))\n",
        "# model.add(LSTM(64))  # returns a sequence of vectors of dimension 32\n",
        "# model.add(Dense(64, activation='relu'))  # return a single vector of dimension 32\n",
        "# model.add(Dense(32, activation='relu'))  # return a single vector of dimension 32\n",
        "# model.add(Dense(4, activation='softmax'))\n",
        "\n",
        "# model.summary()"
      ],
      "metadata": {
        "id": "ZDwdDldVc00W"
      },
      "execution_count": null,
      "outputs": []
    },
    {
      "cell_type": "code",
      "source": [
        "from keras.utils import to_categorical"
      ],
      "metadata": {
        "id": "dUNuIadCmPGp"
      },
      "execution_count": null,
      "outputs": []
    },
    {
      "cell_type": "code",
      "source": [
        "targets_train=to_categorical(target_train, num_classes=4)\n",
        "targets_test=to_categorical(target_test, num_classes=4)\n",
        "targets_val=to_categorical(target_val, num_classes=4)"
      ],
      "metadata": {
        "id": "ydccbzsrmZdb"
      },
      "execution_count": null,
      "outputs": []
    },
    {
      "cell_type": "code",
      "source": [
        "# adam = Adam(lr=0.001)\n",
        "# chk = ModelCheckpoint('best_model.pkl', monitor='val_acc', save_best_only=True, mode='max', verbose=1)\n",
        "# model.compile(loss='categorical_crossentropy', optimizer=adam, metrics=['accuracy'])\n",
        "# model.fit(sequence_train, targets_train, epochs=50, batch_size=128, callbacks=[chk], validation_data=(sequence_val,targets_val))\n",
        "\n"
      ],
      "metadata": {
        "id": "K4aP6qEigT_X"
      },
      "execution_count": null,
      "outputs": []
    },
    {
      "cell_type": "code",
      "source": [
        "from keras.layers import TimeDistributed\n",
        "from keras.layers import Bidirectional\n",
        "#from keras.layers import BatchNormalization"
      ],
      "metadata": {
        "id": "WbEnCVMIKpvI"
      },
      "execution_count": null,
      "outputs": []
    },
    {
      "cell_type": "code",
      "source": [
        "model = Sequential()\n",
        "model.add(Bidirectional(LSTM(64, return_sequences=True, input_shape=(25, 10))))\n",
        "#model.add(BatchNormalization())\n",
        "model.add(Bidirectional(LSTM(64, return_sequences=True))) # returns a sequence of vectors of dimension 32\n",
        "#model.add(BatchNormalization())\n",
        "model.add(Bidirectional(LSTM(32, return_sequences=True)))  # returns a sequence of vectors of dimension 32\n",
        "#model.add(BatchNormalization())\n",
        "model.add(Bidirectional(LSTM(32)))\n",
        "#model.add(BatchNormalization())\n",
        "model.add(Dense(4, activation='softmax'))\n",
        "\n",
        "#model.summary()"
      ],
      "metadata": {
        "id": "zcyLC6qLr3bm"
      },
      "execution_count": null,
      "outputs": []
    },
    {
      "cell_type": "code",
      "source": [
        "adam = Adam(lr=0.001)\n",
        "chk = ModelCheckpoint('best_model.pkl', monitor='val_acc', save_best_only=True, mode='max', verbose=1)\n",
        "model.compile(loss='categorical_crossentropy', optimizer=adam, metrics=['accuracy'])\n",
        "model.fit(sequence_train, targets_train, epochs=100, batch_size=128, callbacks=[chk], validation_data=(sequence_val,targets_val))\n",
        "\n"
      ],
      "metadata": {
        "id": "V48Do0q7r5-G",
        "colab": {
          "base_uri": "https://localhost:8080/"
        },
        "outputId": "eb5c0577-0ed3-4ca5-f9db-b8417a5922bb"
      },
      "execution_count": null,
      "outputs": [
        {
          "output_type": "stream",
          "name": "stdout",
          "text": [
            "Epoch 1/100\n"
          ]
        },
        {
          "output_type": "stream",
          "name": "stderr",
          "text": [
            "/usr/local/lib/python3.9/dist-packages/keras/optimizers/optimizer_v2/adam.py:117: UserWarning: The `lr` argument is deprecated, use `learning_rate` instead.\n",
            "  super().__init__(name, **kwargs)\n"
          ]
        },
        {
          "output_type": "stream",
          "name": "stdout",
          "text": [
            "234/235 [============================>.] - ETA: 0s - loss: 1.3734 - accuracy: 0.2940"
          ]
        },
        {
          "output_type": "stream",
          "name": "stderr",
          "text": [
            "WARNING:tensorflow:Can save best model only with val_acc available, skipping.\n"
          ]
        },
        {
          "output_type": "stream",
          "name": "stdout",
          "text": [
            "\b\b\b\b\b\b\b\b\b\b\b\b\b\b\b\b\b\b\b\b\b\b\b\b\b\b\b\b\b\b\b\b\b\b\b\b\b\b\b\b\b\b\b\b\b\b\b\b\b\b\b\b\b\b\b\b\b\b\b\b\b\b\b\b\b\b\b\b\b\b\b\b\b\b\b\b\b\b\b\b\b\b\b\b\r235/235 [==============================] - 22s 36ms/step - loss: 1.3733 - accuracy: 0.2941 - val_loss: 1.3604 - val_accuracy: 0.2975\n",
            "Epoch 2/100\n",
            "233/235 [============================>.] - ETA: 0s - loss: 1.3296 - accuracy: 0.3427"
          ]
        },
        {
          "output_type": "stream",
          "name": "stderr",
          "text": [
            "WARNING:tensorflow:Can save best model only with val_acc available, skipping.\n"
          ]
        },
        {
          "output_type": "stream",
          "name": "stdout",
          "text": [
            "\b\b\b\b\b\b\b\b\b\b\b\b\b\b\b\b\b\b\b\b\b\b\b\b\b\b\b\b\b\b\b\b\b\b\b\b\b\b\b\b\b\b\b\b\b\b\b\b\b\b\b\b\b\b\b\b\b\b\b\b\b\b\b\b\b\b\b\b\b\b\b\b\b\b\b\b\b\b\b\b\b\b\b\b\r235/235 [==============================] - 5s 19ms/step - loss: 1.3292 - accuracy: 0.3429 - val_loss: 1.3047 - val_accuracy: 0.3654\n",
            "Epoch 3/100\n",
            "233/235 [============================>.] - ETA: 0s - loss: 1.2966 - accuracy: 0.3689"
          ]
        },
        {
          "output_type": "stream",
          "name": "stderr",
          "text": [
            "WARNING:tensorflow:Can save best model only with val_acc available, skipping.\n"
          ]
        },
        {
          "output_type": "stream",
          "name": "stdout",
          "text": [
            "\b\b\b\b\b\b\b\b\b\b\b\b\b\b\b\b\b\b\b\b\b\b\b\b\b\b\b\b\b\b\b\b\b\b\b\b\b\b\b\b\b\b\b\b\b\b\b\b\b\b\b\b\b\b\b\b\b\b\b\b\b\b\b\b\b\b\b\b\b\b\b\b\b\b\b\b\b\b\b\b\b\b\b\b\r235/235 [==============================] - 6s 25ms/step - loss: 1.2964 - accuracy: 0.3689 - val_loss: 1.2534 - val_accuracy: 0.3966\n",
            "Epoch 4/100\n",
            "233/235 [============================>.] - ETA: 0s - loss: 1.1213 - accuracy: 0.4750"
          ]
        },
        {
          "output_type": "stream",
          "name": "stderr",
          "text": [
            "WARNING:tensorflow:Can save best model only with val_acc available, skipping.\n"
          ]
        },
        {
          "output_type": "stream",
          "name": "stdout",
          "text": [
            "\b\b\b\b\b\b\b\b\b\b\b\b\b\b\b\b\b\b\b\b\b\b\b\b\b\b\b\b\b\b\b\b\b\b\b\b\b\b\b\b\b\b\b\b\b\b\b\b\b\b\b\b\b\b\b\b\b\b\b\b\b\b\b\b\b\b\b\b\b\b\b\b\b\b\b\b\b\b\b\b\b\b\b\b\r235/235 [==============================] - 4s 19ms/step - loss: 1.1203 - accuracy: 0.4754 - val_loss: 0.9864 - val_accuracy: 0.5509\n",
            "Epoch 5/100\n",
            "235/235 [==============================] - ETA: 0s - loss: 0.9213 - accuracy: 0.5814"
          ]
        },
        {
          "output_type": "stream",
          "name": "stderr",
          "text": [
            "WARNING:tensorflow:Can save best model only with val_acc available, skipping.\n"
          ]
        },
        {
          "output_type": "stream",
          "name": "stdout",
          "text": [
            "\b\b\b\b\b\b\b\b\b\b\b\b\b\b\b\b\b\b\b\b\b\b\b\b\b\b\b\b\b\b\b\b\b\b\b\b\b\b\b\b\b\b\b\b\b\b\b\b\b\b\b\b\b\b\b\b\b\b\b\b\b\b\b\b\b\b\b\b\b\b\b\b\b\b\b\b\b\b\b\b\b\b\b\b\r235/235 [==============================] - 5s 19ms/step - loss: 0.9213 - accuracy: 0.5814 - val_loss: 0.8497 - val_accuracy: 0.6102\n",
            "Epoch 6/100\n",
            "233/235 [============================>.] - ETA: 0s - loss: 0.7315 - accuracy: 0.6754"
          ]
        },
        {
          "output_type": "stream",
          "name": "stderr",
          "text": [
            "WARNING:tensorflow:Can save best model only with val_acc available, skipping.\n"
          ]
        },
        {
          "output_type": "stream",
          "name": "stdout",
          "text": [
            "\b\b\b\b\b\b\b\b\b\b\b\b\b\b\b\b\b\b\b\b\b\b\b\b\b\b\b\b\b\b\b\b\b\b\b\b\b\b\b\b\b\b\b\b\b\b\b\b\b\b\b\b\b\b\b\b\b\b\b\b\b\b\b\b\b\b\b\b\b\b\b\b\b\b\b\b\b\b\b\b\b\b\b\b\r235/235 [==============================] - 6s 25ms/step - loss: 0.7304 - accuracy: 0.6759 - val_loss: 0.7420 - val_accuracy: 0.6692\n",
            "Epoch 7/100\n",
            "235/235 [==============================] - ETA: 0s - loss: 0.6098 - accuracy: 0.7270"
          ]
        },
        {
          "output_type": "stream",
          "name": "stderr",
          "text": [
            "WARNING:tensorflow:Can save best model only with val_acc available, skipping.\n"
          ]
        },
        {
          "output_type": "stream",
          "name": "stdout",
          "text": [
            "\b\b\b\b\b\b\b\b\b\b\b\b\b\b\b\b\b\b\b\b\b\b\b\b\b\b\b\b\b\b\b\b\b\b\b\b\b\b\b\b\b\b\b\b\b\b\b\b\b\b\b\b\b\b\b\b\b\b\b\b\b\b\b\b\b\b\b\b\b\b\b\b\b\b\b\b\b\b\b\b\b\b\b\b\r235/235 [==============================] - 4s 19ms/step - loss: 0.6098 - accuracy: 0.7270 - val_loss: 0.5461 - val_accuracy: 0.7634\n",
            "Epoch 8/100\n",
            "235/235 [==============================] - ETA: 0s - loss: 0.5203 - accuracy: 0.7721"
          ]
        },
        {
          "output_type": "stream",
          "name": "stderr",
          "text": [
            "WARNING:tensorflow:Can save best model only with val_acc available, skipping.\n"
          ]
        },
        {
          "output_type": "stream",
          "name": "stdout",
          "text": [
            "\b\b\b\b\b\b\b\b\b\b\b\b\b\b\b\b\b\b\b\b\b\b\b\b\b\b\b\b\b\b\b\b\b\b\b\b\b\b\b\b\b\b\b\b\b\b\b\b\b\b\b\b\b\b\b\b\b\b\b\b\b\b\b\b\b\b\b\b\b\b\b\b\b\b\b\b\b\b\b\b\b\b\b\b\r235/235 [==============================] - 5s 23ms/step - loss: 0.5203 - accuracy: 0.7721 - val_loss: 0.5485 - val_accuracy: 0.7596\n",
            "Epoch 9/100\n",
            "235/235 [==============================] - ETA: 0s - loss: 0.4744 - accuracy: 0.7912"
          ]
        },
        {
          "output_type": "stream",
          "name": "stderr",
          "text": [
            "WARNING:tensorflow:Can save best model only with val_acc available, skipping.\n"
          ]
        },
        {
          "output_type": "stream",
          "name": "stdout",
          "text": [
            "\b\b\b\b\b\b\b\b\b\b\b\b\b\b\b\b\b\b\b\b\b\b\b\b\b\b\b\b\b\b\b\b\b\b\b\b\b\b\b\b\b\b\b\b\b\b\b\b\b\b\b\b\b\b\b\b\b\b\b\b\b\b\b\b\b\b\b\b\b\b\b\b\b\b\b\b\b\b\b\b\b\b\b\b\r235/235 [==============================] - 5s 22ms/step - loss: 0.4744 - accuracy: 0.7912 - val_loss: 0.4262 - val_accuracy: 0.8168\n",
            "Epoch 10/100\n",
            "233/235 [============================>.] - ETA: 0s - loss: 0.4160 - accuracy: 0.8198"
          ]
        },
        {
          "output_type": "stream",
          "name": "stderr",
          "text": [
            "WARNING:tensorflow:Can save best model only with val_acc available, skipping.\n"
          ]
        },
        {
          "output_type": "stream",
          "name": "stdout",
          "text": [
            "\b\b\b\b\b\b\b\b\b\b\b\b\b\b\b\b\b\b\b\b\b\b\b\b\b\b\b\b\b\b\b\b\b\b\b\b\b\b\b\b\b\b\b\b\b\b\b\b\b\b\b\b\b\b\b\b\b\b\b\b\b\b\b\b\b\b\b\b\b\b\b\b\b\b\b\b\b\b\b\b\b\b\b\b\r235/235 [==============================] - 5s 19ms/step - loss: 0.4160 - accuracy: 0.8199 - val_loss: 0.4895 - val_accuracy: 0.7937\n",
            "Epoch 11/100\n",
            "234/235 [============================>.] - ETA: 0s - loss: 0.4087 - accuracy: 0.8248"
          ]
        },
        {
          "output_type": "stream",
          "name": "stderr",
          "text": [
            "WARNING:tensorflow:Can save best model only with val_acc available, skipping.\n"
          ]
        },
        {
          "output_type": "stream",
          "name": "stdout",
          "text": [
            "\b\b\b\b\b\b\b\b\b\b\b\b\b\b\b\b\b\b\b\b\b\b\b\b\b\b\b\b\b\b\b\b\b\b\b\b\b\b\b\b\b\b\b\b\b\b\b\b\b\b\b\b\b\b\b\b\b\b\b\b\b\b\b\b\b\b\b\b\b\b\b\b\b\b\b\b\b\b\b\b\b\b\b\b\r235/235 [==============================] - 6s 25ms/step - loss: 0.4087 - accuracy: 0.8247 - val_loss: 0.4081 - val_accuracy: 0.8257\n",
            "Epoch 12/100\n",
            "233/235 [============================>.] - ETA: 0s - loss: 0.3718 - accuracy: 0.8387"
          ]
        },
        {
          "output_type": "stream",
          "name": "stderr",
          "text": [
            "WARNING:tensorflow:Can save best model only with val_acc available, skipping.\n"
          ]
        },
        {
          "output_type": "stream",
          "name": "stdout",
          "text": [
            "\b\b\b\b\b\b\b\b\b\b\b\b\b\b\b\b\b\b\b\b\b\b\b\b\b\b\b\b\b\b\b\b\b\b\b\b\b\b\b\b\b\b\b\b\b\b\b\b\b\b\b\b\b\b\b\b\b\b\b\b\b\b\b\b\b\b\b\b\b\b\b\b\b\b\b\b\b\b\b\b\b\b\b\b\r235/235 [==============================] - 5s 19ms/step - loss: 0.3720 - accuracy: 0.8387 - val_loss: 0.3597 - val_accuracy: 0.8483\n",
            "Epoch 13/100\n",
            "232/235 [============================>.] - ETA: 0s - loss: 0.3408 - accuracy: 0.8523"
          ]
        },
        {
          "output_type": "stream",
          "name": "stderr",
          "text": [
            "WARNING:tensorflow:Can save best model only with val_acc available, skipping.\n"
          ]
        },
        {
          "output_type": "stream",
          "name": "stdout",
          "text": [
            "\b\b\b\b\b\b\b\b\b\b\b\b\b\b\b\b\b\b\b\b\b\b\b\b\b\b\b\b\b\b\b\b\b\b\b\b\b\b\b\b\b\b\b\b\b\b\b\b\b\b\b\b\b\b\b\b\b\b\b\b\b\b\b\b\b\b\b\b\b\b\b\b\b\b\b\b\b\b\b\b\b\b\b\b\r235/235 [==============================] - 5s 19ms/step - loss: 0.3405 - accuracy: 0.8525 - val_loss: 0.3416 - val_accuracy: 0.8544\n",
            "Epoch 14/100\n",
            "235/235 [==============================] - ETA: 0s - loss: 0.3125 - accuracy: 0.8665"
          ]
        },
        {
          "output_type": "stream",
          "name": "stderr",
          "text": [
            "WARNING:tensorflow:Can save best model only with val_acc available, skipping.\n"
          ]
        },
        {
          "output_type": "stream",
          "name": "stdout",
          "text": [
            "\b\b\b\b\b\b\b\b\b\b\b\b\b\b\b\b\b\b\b\b\b\b\b\b\b\b\b\b\b\b\b\b\b\b\b\b\b\b\b\b\b\b\b\b\b\b\b\b\b\b\b\b\b\b\b\b\b\b\b\b\b\b\b\b\b\b\b\b\b\b\b\b\b\b\b\b\b\b\b\b\b\b\b\b\r235/235 [==============================] - 6s 24ms/step - loss: 0.3125 - accuracy: 0.8665 - val_loss: 0.2984 - val_accuracy: 0.8737\n",
            "Epoch 15/100\n",
            "234/235 [============================>.] - ETA: 0s - loss: 0.2918 - accuracy: 0.8745"
          ]
        },
        {
          "output_type": "stream",
          "name": "stderr",
          "text": [
            "WARNING:tensorflow:Can save best model only with val_acc available, skipping.\n"
          ]
        },
        {
          "output_type": "stream",
          "name": "stdout",
          "text": [
            "\b\b\b\b\b\b\b\b\b\b\b\b\b\b\b\b\b\b\b\b\b\b\b\b\b\b\b\b\b\b\b\b\b\b\b\b\b\b\b\b\b\b\b\b\b\b\b\b\b\b\b\b\b\b\b\b\b\b\b\b\b\b\b\b\b\b\b\b\b\b\b\b\b\b\b\b\b\b\b\b\b\b\b\b\r235/235 [==============================] - 5s 19ms/step - loss: 0.2917 - accuracy: 0.8746 - val_loss: 0.2903 - val_accuracy: 0.8713\n",
            "Epoch 16/100\n",
            "235/235 [==============================] - ETA: 0s - loss: 0.2832 - accuracy: 0.8793"
          ]
        },
        {
          "output_type": "stream",
          "name": "stderr",
          "text": [
            "WARNING:tensorflow:Can save best model only with val_acc available, skipping.\n"
          ]
        },
        {
          "output_type": "stream",
          "name": "stdout",
          "text": [
            "\b\b\b\b\b\b\b\b\b\b\b\b\b\b\b\b\b\b\b\b\b\b\b\b\b\b\b\b\b\b\b\b\b\b\b\b\b\b\b\b\b\b\b\b\b\b\b\b\b\b\b\b\b\b\b\b\b\b\b\b\b\b\b\b\b\b\b\b\b\b\b\b\b\b\b\b\b\b\b\b\b\b\b\b\r235/235 [==============================] - 5s 20ms/step - loss: 0.2832 - accuracy: 0.8793 - val_loss: 0.2523 - val_accuracy: 0.8880\n",
            "Epoch 17/100\n",
            "235/235 [==============================] - ETA: 0s - loss: 0.2569 - accuracy: 0.8893"
          ]
        },
        {
          "output_type": "stream",
          "name": "stderr",
          "text": [
            "WARNING:tensorflow:Can save best model only with val_acc available, skipping.\n"
          ]
        },
        {
          "output_type": "stream",
          "name": "stdout",
          "text": [
            "\b\b\b\b\b\b\b\b\b\b\b\b\b\b\b\b\b\b\b\b\b\b\b\b\b\b\b\b\b\b\b\b\b\b\b\b\b\b\b\b\b\b\b\b\b\b\b\b\b\b\b\b\b\b\b\b\b\b\b\b\b\b\b\b\b\b\b\b\b\b\b\b\b\b\b\b\b\b\b\b\b\b\b\b\r235/235 [==============================] - 6s 24ms/step - loss: 0.2569 - accuracy: 0.8893 - val_loss: 0.2842 - val_accuracy: 0.8729\n",
            "Epoch 18/100\n",
            "232/235 [============================>.] - ETA: 0s - loss: 0.2384 - accuracy: 0.9002"
          ]
        },
        {
          "output_type": "stream",
          "name": "stderr",
          "text": [
            "WARNING:tensorflow:Can save best model only with val_acc available, skipping.\n"
          ]
        },
        {
          "output_type": "stream",
          "name": "stdout",
          "text": [
            "\b\b\b\b\b\b\b\b\b\b\b\b\b\b\b\b\b\b\b\b\b\b\b\b\b\b\b\b\b\b\b\b\b\b\b\b\b\b\b\b\b\b\b\b\b\b\b\b\b\b\b\b\b\b\b\b\b\b\b\b\b\b\b\b\b\b\b\b\b\b\b\b\b\b\b\b\b\b\b\b\b\b\b\b\r235/235 [==============================] - 5s 19ms/step - loss: 0.2382 - accuracy: 0.9002 - val_loss: 0.2749 - val_accuracy: 0.8821\n",
            "Epoch 19/100\n",
            "234/235 [============================>.] - ETA: 0s - loss: 0.2311 - accuracy: 0.9014"
          ]
        },
        {
          "output_type": "stream",
          "name": "stderr",
          "text": [
            "WARNING:tensorflow:Can save best model only with val_acc available, skipping.\n"
          ]
        },
        {
          "output_type": "stream",
          "name": "stdout",
          "text": [
            "\b\b\b\b\b\b\b\b\b\b\b\b\b\b\b\b\b\b\b\b\b\b\b\b\b\b\b\b\b\b\b\b\b\b\b\b\b\b\b\b\b\b\b\b\b\b\b\b\b\b\b\b\b\b\b\b\b\b\b\b\b\b\b\b\b\b\b\b\b\b\b\b\b\b\b\b\b\b\b\b\b\b\b\b\r235/235 [==============================] - 6s 24ms/step - loss: 0.2309 - accuracy: 0.9015 - val_loss: 0.2513 - val_accuracy: 0.8865\n",
            "Epoch 20/100\n",
            "233/235 [============================>.] - ETA: 0s - loss: 0.2291 - accuracy: 0.9015"
          ]
        },
        {
          "output_type": "stream",
          "name": "stderr",
          "text": [
            "WARNING:tensorflow:Can save best model only with val_acc available, skipping.\n"
          ]
        },
        {
          "output_type": "stream",
          "name": "stdout",
          "text": [
            "\b\b\b\b\b\b\b\b\b\b\b\b\b\b\b\b\b\b\b\b\b\b\b\b\b\b\b\b\b\b\b\b\b\b\b\b\b\b\b\b\b\b\b\b\b\b\b\b\b\b\b\b\b\b\b\b\b\b\b\b\b\b\b\b\b\b\b\b\b\b\b\b\b\b\b\b\b\b\b\b\b\b\b\b\r235/235 [==============================] - 5s 21ms/step - loss: 0.2294 - accuracy: 0.9013 - val_loss: 0.2099 - val_accuracy: 0.9080\n",
            "Epoch 21/100\n",
            "235/235 [==============================] - ETA: 0s - loss: 0.2161 - accuracy: 0.9083"
          ]
        },
        {
          "output_type": "stream",
          "name": "stderr",
          "text": [
            "WARNING:tensorflow:Can save best model only with val_acc available, skipping.\n"
          ]
        },
        {
          "output_type": "stream",
          "name": "stdout",
          "text": [
            "\b\b\b\b\b\b\b\b\b\b\b\b\b\b\b\b\b\b\b\b\b\b\b\b\b\b\b\b\b\b\b\b\b\b\b\b\b\b\b\b\b\b\b\b\b\b\b\b\b\b\b\b\b\b\b\b\b\b\b\b\b\b\b\b\b\b\b\b\b\b\b\b\b\b\b\b\b\b\b\b\b\b\b\b\r235/235 [==============================] - 5s 20ms/step - loss: 0.2161 - accuracy: 0.9083 - val_loss: 0.2169 - val_accuracy: 0.9011\n",
            "Epoch 22/100\n",
            "235/235 [==============================] - ETA: 0s - loss: 0.2148 - accuracy: 0.9095"
          ]
        },
        {
          "output_type": "stream",
          "name": "stderr",
          "text": [
            "WARNING:tensorflow:Can save best model only with val_acc available, skipping.\n"
          ]
        },
        {
          "output_type": "stream",
          "name": "stdout",
          "text": [
            "\b\b\b\b\b\b\b\b\b\b\b\b\b\b\b\b\b\b\b\b\b\b\b\b\b\b\b\b\b\b\b\b\b\b\b\b\b\b\b\b\b\b\b\b\b\b\b\b\b\b\b\b\b\b\b\b\b\b\b\b\b\b\b\b\b\b\b\b\b\b\b\b\b\b\b\b\b\b\b\b\b\b\b\b\r235/235 [==============================] - 6s 25ms/step - loss: 0.2148 - accuracy: 0.9095 - val_loss: 0.2253 - val_accuracy: 0.9005\n",
            "Epoch 23/100\n",
            "234/235 [============================>.] - ETA: 0s - loss: 0.2020 - accuracy: 0.9142"
          ]
        },
        {
          "output_type": "stream",
          "name": "stderr",
          "text": [
            "WARNING:tensorflow:Can save best model only with val_acc available, skipping.\n"
          ]
        },
        {
          "output_type": "stream",
          "name": "stdout",
          "text": [
            "\b\b\b\b\b\b\b\b\b\b\b\b\b\b\b\b\b\b\b\b\b\b\b\b\b\b\b\b\b\b\b\b\b\b\b\b\b\b\b\b\b\b\b\b\b\b\b\b\b\b\b\b\b\b\b\b\b\b\b\b\b\b\b\b\b\b\b\b\b\b\b\b\b\b\b\b\b\b\b\b\b\b\b\b\r235/235 [==============================] - 5s 19ms/step - loss: 0.2021 - accuracy: 0.9141 - val_loss: 0.2015 - val_accuracy: 0.9088\n",
            "Epoch 24/100\n",
            "233/235 [============================>.] - ETA: 0s - loss: 0.2015 - accuracy: 0.9125"
          ]
        },
        {
          "output_type": "stream",
          "name": "stderr",
          "text": [
            "WARNING:tensorflow:Can save best model only with val_acc available, skipping.\n"
          ]
        },
        {
          "output_type": "stream",
          "name": "stdout",
          "text": [
            "\b\b\b\b\b\b\b\b\b\b\b\b\b\b\b\b\b\b\b\b\b\b\b\b\b\b\b\b\b\b\b\b\b\b\b\b\b\b\b\b\b\b\b\b\b\b\b\b\b\b\b\b\b\b\b\b\b\b\b\b\b\b\b\b\b\b\b\b\b\b\b\b\b\b\b\b\b\b\b\b\b\b\b\b\r235/235 [==============================] - 5s 19ms/step - loss: 0.2016 - accuracy: 0.9125 - val_loss: 0.3425 - val_accuracy: 0.8555\n",
            "Epoch 25/100\n",
            "235/235 [==============================] - ETA: 0s - loss: 0.1872 - accuracy: 0.9193"
          ]
        },
        {
          "output_type": "stream",
          "name": "stderr",
          "text": [
            "WARNING:tensorflow:Can save best model only with val_acc available, skipping.\n"
          ]
        },
        {
          "output_type": "stream",
          "name": "stdout",
          "text": [
            "\b\b\b\b\b\b\b\b\b\b\b\b\b\b\b\b\b\b\b\b\b\b\b\b\b\b\b\b\b\b\b\b\b\b\b\b\b\b\b\b\b\b\b\b\b\b\b\b\b\b\b\b\b\b\b\b\b\b\b\b\b\b\b\b\b\b\b\b\b\b\b\b\b\b\b\b\b\b\b\b\b\b\b\b\r235/235 [==============================] - 6s 25ms/step - loss: 0.1872 - accuracy: 0.9193 - val_loss: 0.2442 - val_accuracy: 0.8959\n",
            "Epoch 26/100\n",
            "235/235 [==============================] - ETA: 0s - loss: 0.1852 - accuracy: 0.9215"
          ]
        },
        {
          "output_type": "stream",
          "name": "stderr",
          "text": [
            "WARNING:tensorflow:Can save best model only with val_acc available, skipping.\n"
          ]
        },
        {
          "output_type": "stream",
          "name": "stdout",
          "text": [
            "\b\b\b\b\b\b\b\b\b\b\b\b\b\b\b\b\b\b\b\b\b\b\b\b\b\b\b\b\b\b\b\b\b\b\b\b\b\b\b\b\b\b\b\b\b\b\b\b\b\b\b\b\b\b\b\b\b\b\b\b\b\b\b\b\b\b\b\b\b\b\b\b\b\b\b\b\b\b\b\b\b\b\b\b\r235/235 [==============================] - 5s 19ms/step - loss: 0.1852 - accuracy: 0.9215 - val_loss: 0.2111 - val_accuracy: 0.9031\n",
            "Epoch 27/100\n",
            "234/235 [============================>.] - ETA: 0s - loss: 0.1815 - accuracy: 0.9218"
          ]
        },
        {
          "output_type": "stream",
          "name": "stderr",
          "text": [
            "WARNING:tensorflow:Can save best model only with val_acc available, skipping.\n"
          ]
        },
        {
          "output_type": "stream",
          "name": "stdout",
          "text": [
            "\b\b\b\b\b\b\b\b\b\b\b\b\b\b\b\b\b\b\b\b\b\b\b\b\b\b\b\b\b\b\b\b\b\b\b\b\b\b\b\b\b\b\b\b\b\b\b\b\b\b\b\b\b\b\b\b\b\b\b\b\b\b\b\b\b\b\b\b\b\b\b\b\b\b\b\b\b\b\b\b\b\b\b\b\r235/235 [==============================] - 5s 21ms/step - loss: 0.1818 - accuracy: 0.9217 - val_loss: 0.1945 - val_accuracy: 0.9133\n",
            "Epoch 28/100\n",
            "233/235 [============================>.] - ETA: 0s - loss: 0.1808 - accuracy: 0.9251"
          ]
        },
        {
          "output_type": "stream",
          "name": "stderr",
          "text": [
            "WARNING:tensorflow:Can save best model only with val_acc available, skipping.\n"
          ]
        },
        {
          "output_type": "stream",
          "name": "stdout",
          "text": [
            "\b\b\b\b\b\b\b\b\b\b\b\b\b\b\b\b\b\b\b\b\b\b\b\b\b\b\b\b\b\b\b\b\b\b\b\b\b\b\b\b\b\b\b\b\b\b\b\b\b\b\b\b\b\b\b\b\b\b\b\b\b\b\b\b\b\b\b\b\b\b\b\b\b\b\b\b\b\b\b\b\b\b\b\b\r235/235 [==============================] - 5s 23ms/step - loss: 0.1806 - accuracy: 0.9252 - val_loss: 0.1970 - val_accuracy: 0.9103\n",
            "Epoch 29/100\n",
            "235/235 [==============================] - ETA: 0s - loss: 0.1755 - accuracy: 0.9238"
          ]
        },
        {
          "output_type": "stream",
          "name": "stderr",
          "text": [
            "WARNING:tensorflow:Can save best model only with val_acc available, skipping.\n"
          ]
        },
        {
          "output_type": "stream",
          "name": "stdout",
          "text": [
            "\b\b\b\b\b\b\b\b\b\b\b\b\b\b\b\b\b\b\b\b\b\b\b\b\b\b\b\b\b\b\b\b\b\b\b\b\b\b\b\b\b\b\b\b\b\b\b\b\b\b\b\b\b\b\b\b\b\b\b\b\b\b\b\b\b\b\b\b\b\b\b\b\b\b\b\b\b\b\b\b\b\b\b\b\r235/235 [==============================] - 5s 20ms/step - loss: 0.1755 - accuracy: 0.9238 - val_loss: 0.1793 - val_accuracy: 0.9212\n",
            "Epoch 30/100\n",
            "233/235 [============================>.] - ETA: 0s - loss: 0.1657 - accuracy: 0.9288"
          ]
        },
        {
          "output_type": "stream",
          "name": "stderr",
          "text": [
            "WARNING:tensorflow:Can save best model only with val_acc available, skipping.\n"
          ]
        },
        {
          "output_type": "stream",
          "name": "stdout",
          "text": [
            "\b\b\b\b\b\b\b\b\b\b\b\b\b\b\b\b\b\b\b\b\b\b\b\b\b\b\b\b\b\b\b\b\b\b\b\b\b\b\b\b\b\b\b\b\b\b\b\b\b\b\b\b\b\b\b\b\b\b\b\b\b\b\b\b\b\b\b\b\b\b\b\b\b\b\b\b\b\b\b\b\b\b\b\b\r235/235 [==============================] - 6s 23ms/step - loss: 0.1657 - accuracy: 0.9287 - val_loss: 0.1813 - val_accuracy: 0.9168\n",
            "Epoch 31/100\n",
            "235/235 [==============================] - ETA: 0s - loss: 0.1701 - accuracy: 0.9275"
          ]
        },
        {
          "output_type": "stream",
          "name": "stderr",
          "text": [
            "WARNING:tensorflow:Can save best model only with val_acc available, skipping.\n"
          ]
        },
        {
          "output_type": "stream",
          "name": "stdout",
          "text": [
            "\b\b\b\b\b\b\b\b\b\b\b\b\b\b\b\b\b\b\b\b\b\b\b\b\b\b\b\b\b\b\b\b\b\b\b\b\b\b\b\b\b\b\b\b\b\b\b\b\b\b\b\b\b\b\b\b\b\b\b\b\b\b\b\b\b\b\b\b\b\b\b\b\b\b\b\b\b\b\b\b\b\b\b\b\r235/235 [==============================] - 5s 21ms/step - loss: 0.1701 - accuracy: 0.9275 - val_loss: 0.2269 - val_accuracy: 0.9044\n",
            "Epoch 32/100\n",
            "233/235 [============================>.] - ETA: 0s - loss: 0.1615 - accuracy: 0.9319"
          ]
        },
        {
          "output_type": "stream",
          "name": "stderr",
          "text": [
            "WARNING:tensorflow:Can save best model only with val_acc available, skipping.\n"
          ]
        },
        {
          "output_type": "stream",
          "name": "stdout",
          "text": [
            "\b\b\b\b\b\b\b\b\b\b\b\b\b\b\b\b\b\b\b\b\b\b\b\b\b\b\b\b\b\b\b\b\b\b\b\b\b\b\b\b\b\b\b\b\b\b\b\b\b\b\b\b\b\b\b\b\b\b\b\b\b\b\b\b\b\b\b\b\b\b\b\b\b\b\b\b\b\b\b\b\b\b\b\b\r235/235 [==============================] - 5s 19ms/step - loss: 0.1616 - accuracy: 0.9318 - val_loss: 0.2208 - val_accuracy: 0.8995\n",
            "Epoch 33/100\n",
            "232/235 [============================>.] - ETA: 0s - loss: 0.1728 - accuracy: 0.9266"
          ]
        },
        {
          "output_type": "stream",
          "name": "stderr",
          "text": [
            "WARNING:tensorflow:Can save best model only with val_acc available, skipping.\n"
          ]
        },
        {
          "output_type": "stream",
          "name": "stdout",
          "text": [
            "\b\b\b\b\b\b\b\b\b\b\b\b\b\b\b\b\b\b\b\b\b\b\b\b\b\b\b\b\b\b\b\b\b\b\b\b\b\b\b\b\b\b\b\b\b\b\b\b\b\b\b\b\b\b\b\b\b\b\b\b\b\b\b\b\b\b\b\b\b\b\b\b\b\b\b\b\b\b\b\b\b\b\b\b\r235/235 [==============================] - 6s 25ms/step - loss: 0.1724 - accuracy: 0.9268 - val_loss: 0.1690 - val_accuracy: 0.9257\n",
            "Epoch 34/100\n",
            "233/235 [============================>.] - ETA: 0s - loss: 0.1541 - accuracy: 0.9353"
          ]
        },
        {
          "output_type": "stream",
          "name": "stderr",
          "text": [
            "WARNING:tensorflow:Can save best model only with val_acc available, skipping.\n"
          ]
        },
        {
          "output_type": "stream",
          "name": "stdout",
          "text": [
            "\b\b\b\b\b\b\b\b\b\b\b\b\b\b\b\b\b\b\b\b\b\b\b\b\b\b\b\b\b\b\b\b\b\b\b\b\b\b\b\b\b\b\b\b\b\b\b\b\b\b\b\b\b\b\b\b\b\b\b\b\b\b\b\b\b\b\b\b\b\b\b\b\b\b\b\b\b\b\b\b\b\b\b\b\r235/235 [==============================] - 5s 19ms/step - loss: 0.1539 - accuracy: 0.9353 - val_loss: 0.1639 - val_accuracy: 0.9282\n",
            "Epoch 35/100\n",
            "233/235 [============================>.] - ETA: 0s - loss: 0.1501 - accuracy: 0.9379"
          ]
        },
        {
          "output_type": "stream",
          "name": "stderr",
          "text": [
            "WARNING:tensorflow:Can save best model only with val_acc available, skipping.\n"
          ]
        },
        {
          "output_type": "stream",
          "name": "stdout",
          "text": [
            "\b\b\b\b\b\b\b\b\b\b\b\b\b\b\b\b\b\b\b\b\b\b\b\b\b\b\b\b\b\b\b\b\b\b\b\b\b\b\b\b\b\b\b\b\b\b\b\b\b\b\b\b\b\b\b\b\b\b\b\b\b\b\b\b\b\b\b\b\b\b\b\b\b\b\b\b\b\b\b\b\b\b\b\b\r235/235 [==============================] - 5s 20ms/step - loss: 0.1502 - accuracy: 0.9378 - val_loss: 0.2935 - val_accuracy: 0.8829\n",
            "Epoch 36/100\n",
            "234/235 [============================>.] - ETA: 0s - loss: 0.1621 - accuracy: 0.9325"
          ]
        },
        {
          "output_type": "stream",
          "name": "stderr",
          "text": [
            "WARNING:tensorflow:Can save best model only with val_acc available, skipping.\n"
          ]
        },
        {
          "output_type": "stream",
          "name": "stdout",
          "text": [
            "\b\b\b\b\b\b\b\b\b\b\b\b\b\b\b\b\b\b\b\b\b\b\b\b\b\b\b\b\b\b\b\b\b\b\b\b\b\b\b\b\b\b\b\b\b\b\b\b\b\b\b\b\b\b\b\b\b\b\b\b\b\b\b\b\b\b\b\b\b\b\b\b\b\b\b\b\b\b\b\b\b\b\b\b\r235/235 [==============================] - 6s 25ms/step - loss: 0.1620 - accuracy: 0.9326 - val_loss: 0.1986 - val_accuracy: 0.9158\n",
            "Epoch 37/100\n",
            "235/235 [==============================] - ETA: 0s - loss: 0.1524 - accuracy: 0.9369"
          ]
        },
        {
          "output_type": "stream",
          "name": "stderr",
          "text": [
            "WARNING:tensorflow:Can save best model only with val_acc available, skipping.\n"
          ]
        },
        {
          "output_type": "stream",
          "name": "stdout",
          "text": [
            "\b\b\b\b\b\b\b\b\b\b\b\b\b\b\b\b\b\b\b\b\b\b\b\b\b\b\b\b\b\b\b\b\b\b\b\b\b\b\b\b\b\b\b\b\b\b\b\b\b\b\b\b\b\b\b\b\b\b\b\b\b\b\b\b\b\b\b\b\b\b\b\b\b\b\b\b\b\b\b\b\b\b\b\b\r235/235 [==============================] - 4s 19ms/step - loss: 0.1524 - accuracy: 0.9369 - val_loss: 0.1632 - val_accuracy: 0.9261\n",
            "Epoch 38/100\n",
            "235/235 [==============================] - ETA: 0s - loss: 0.1363 - accuracy: 0.9432"
          ]
        },
        {
          "output_type": "stream",
          "name": "stderr",
          "text": [
            "WARNING:tensorflow:Can save best model only with val_acc available, skipping.\n"
          ]
        },
        {
          "output_type": "stream",
          "name": "stdout",
          "text": [
            "\b\b\b\b\b\b\b\b\b\b\b\b\b\b\b\b\b\b\b\b\b\b\b\b\b\b\b\b\b\b\b\b\b\b\b\b\b\b\b\b\b\b\b\b\b\b\b\b\b\b\b\b\b\b\b\b\b\b\b\b\b\b\b\b\b\b\b\b\b\b\b\b\b\b\b\b\b\b\b\b\b\b\b\b\r235/235 [==============================] - 5s 22ms/step - loss: 0.1363 - accuracy: 0.9432 - val_loss: 0.2690 - val_accuracy: 0.8932\n",
            "Epoch 39/100\n",
            "235/235 [==============================] - ETA: 0s - loss: 0.1518 - accuracy: 0.9367"
          ]
        },
        {
          "output_type": "stream",
          "name": "stderr",
          "text": [
            "WARNING:tensorflow:Can save best model only with val_acc available, skipping.\n"
          ]
        },
        {
          "output_type": "stream",
          "name": "stdout",
          "text": [
            "\b\b\b\b\b\b\b\b\b\b\b\b\b\b\b\b\b\b\b\b\b\b\b\b\b\b\b\b\b\b\b\b\b\b\b\b\b\b\b\b\b\b\b\b\b\b\b\b\b\b\b\b\b\b\b\b\b\b\b\b\b\b\b\b\b\b\b\b\b\b\b\b\b\b\b\b\b\b\b\b\b\b\b\b\r235/235 [==============================] - 5s 23ms/step - loss: 0.1518 - accuracy: 0.9367 - val_loss: 0.1785 - val_accuracy: 0.9226\n",
            "Epoch 40/100\n",
            "233/235 [============================>.] - ETA: 0s - loss: 0.1373 - accuracy: 0.9413"
          ]
        },
        {
          "output_type": "stream",
          "name": "stderr",
          "text": [
            "WARNING:tensorflow:Can save best model only with val_acc available, skipping.\n"
          ]
        },
        {
          "output_type": "stream",
          "name": "stdout",
          "text": [
            "\b\b\b\b\b\b\b\b\b\b\b\b\b\b\b\b\b\b\b\b\b\b\b\b\b\b\b\b\b\b\b\b\b\b\b\b\b\b\b\b\b\b\b\b\b\b\b\b\b\b\b\b\b\b\b\b\b\b\b\b\b\b\b\b\b\b\b\b\b\b\b\b\b\b\b\b\b\b\b\b\b\b\b\b\r235/235 [==============================] - 5s 19ms/step - loss: 0.1377 - accuracy: 0.9412 - val_loss: 0.1861 - val_accuracy: 0.9202\n",
            "Epoch 41/100\n",
            "234/235 [============================>.] - ETA: 0s - loss: 0.1490 - accuracy: 0.9374"
          ]
        },
        {
          "output_type": "stream",
          "name": "stderr",
          "text": [
            "WARNING:tensorflow:Can save best model only with val_acc available, skipping.\n"
          ]
        },
        {
          "output_type": "stream",
          "name": "stdout",
          "text": [
            "\b\b\b\b\b\b\b\b\b\b\b\b\b\b\b\b\b\b\b\b\b\b\b\b\b\b\b\b\b\b\b\b\b\b\b\b\b\b\b\b\b\b\b\b\b\b\b\b\b\b\b\b\b\b\b\b\b\b\b\b\b\b\b\b\b\b\b\b\b\b\b\b\b\b\b\b\b\b\b\b\b\b\b\b\r235/235 [==============================] - 6s 26ms/step - loss: 0.1491 - accuracy: 0.9373 - val_loss: 0.1566 - val_accuracy: 0.9304\n",
            "Epoch 42/100\n",
            "235/235 [==============================] - ETA: 0s - loss: 0.1420 - accuracy: 0.9405"
          ]
        },
        {
          "output_type": "stream",
          "name": "stderr",
          "text": [
            "WARNING:tensorflow:Can save best model only with val_acc available, skipping.\n"
          ]
        },
        {
          "output_type": "stream",
          "name": "stdout",
          "text": [
            "\b\b\b\b\b\b\b\b\b\b\b\b\b\b\b\b\b\b\b\b\b\b\b\b\b\b\b\b\b\b\b\b\b\b\b\b\b\b\b\b\b\b\b\b\b\b\b\b\b\b\b\b\b\b\b\b\b\b\b\b\b\b\b\b\b\b\b\b\b\b\b\b\b\b\b\b\b\b\b\b\b\b\b\b\r235/235 [==============================] - 5s 20ms/step - loss: 0.1420 - accuracy: 0.9405 - val_loss: 0.2373 - val_accuracy: 0.8982\n",
            "Epoch 43/100\n",
            "233/235 [============================>.] - ETA: 0s - loss: 0.1243 - accuracy: 0.9475"
          ]
        },
        {
          "output_type": "stream",
          "name": "stderr",
          "text": [
            "WARNING:tensorflow:Can save best model only with val_acc available, skipping.\n"
          ]
        },
        {
          "output_type": "stream",
          "name": "stdout",
          "text": [
            "\b\b\b\b\b\b\b\b\b\b\b\b\b\b\b\b\b\b\b\b\b\b\b\b\b\b\b\b\b\b\b\b\b\b\b\b\b\b\b\b\b\b\b\b\b\b\b\b\b\b\b\b\b\b\b\b\b\b\b\b\b\b\b\b\b\b\b\b\b\b\b\b\b\b\b\b\b\b\b\b\b\b\b\b\r235/235 [==============================] - 5s 19ms/step - loss: 0.1245 - accuracy: 0.9473 - val_loss: 0.1587 - val_accuracy: 0.9318\n",
            "Epoch 44/100\n",
            "233/235 [============================>.] - ETA: 0s - loss: 0.1427 - accuracy: 0.9394"
          ]
        },
        {
          "output_type": "stream",
          "name": "stderr",
          "text": [
            "WARNING:tensorflow:Can save best model only with val_acc available, skipping.\n"
          ]
        },
        {
          "output_type": "stream",
          "name": "stdout",
          "text": [
            "\b\b\b\b\b\b\b\b\b\b\b\b\b\b\b\b\b\b\b\b\b\b\b\b\b\b\b\b\b\b\b\b\b\b\b\b\b\b\b\b\b\b\b\b\b\b\b\b\b\b\b\b\b\b\b\b\b\b\b\b\b\b\b\b\b\b\b\b\b\b\b\b\b\b\b\b\b\b\b\b\b\b\b\b\r235/235 [==============================] - 6s 25ms/step - loss: 0.1427 - accuracy: 0.9394 - val_loss: 0.1519 - val_accuracy: 0.9348\n",
            "Epoch 45/100\n",
            "233/235 [============================>.] - ETA: 0s - loss: 0.1273 - accuracy: 0.9461"
          ]
        },
        {
          "output_type": "stream",
          "name": "stderr",
          "text": [
            "WARNING:tensorflow:Can save best model only with val_acc available, skipping.\n"
          ]
        },
        {
          "output_type": "stream",
          "name": "stdout",
          "text": [
            "\b\b\b\b\b\b\b\b\b\b\b\b\b\b\b\b\b\b\b\b\b\b\b\b\b\b\b\b\b\b\b\b\b\b\b\b\b\b\b\b\b\b\b\b\b\b\b\b\b\b\b\b\b\b\b\b\b\b\b\b\b\b\b\b\b\b\b\b\b\b\b\b\b\b\b\b\b\b\b\b\b\b\b\b\r235/235 [==============================] - 5s 20ms/step - loss: 0.1279 - accuracy: 0.9459 - val_loss: 0.1729 - val_accuracy: 0.9220\n",
            "Epoch 46/100\n",
            "235/235 [==============================] - ETA: 0s - loss: 0.1279 - accuracy: 0.9462"
          ]
        },
        {
          "output_type": "stream",
          "name": "stderr",
          "text": [
            "WARNING:tensorflow:Can save best model only with val_acc available, skipping.\n"
          ]
        },
        {
          "output_type": "stream",
          "name": "stdout",
          "text": [
            "\b\b\b\b\b\b\b\b\b\b\b\b\b\b\b\b\b\b\b\b\b\b\b\b\b\b\b\b\b\b\b\b\b\b\b\b\b\b\b\b\b\b\b\b\b\b\b\b\b\b\b\b\b\b\b\b\b\b\b\b\b\b\b\b\b\b\b\b\b\b\b\b\b\b\b\b\b\b\b\b\b\b\b\b\r235/235 [==============================] - 5s 23ms/step - loss: 0.1279 - accuracy: 0.9462 - val_loss: 0.1822 - val_accuracy: 0.9235\n",
            "Epoch 47/100\n",
            "234/235 [============================>.] - ETA: 0s - loss: 0.1372 - accuracy: 0.9427"
          ]
        },
        {
          "output_type": "stream",
          "name": "stderr",
          "text": [
            "WARNING:tensorflow:Can save best model only with val_acc available, skipping.\n"
          ]
        },
        {
          "output_type": "stream",
          "name": "stdout",
          "text": [
            "\b\b\b\b\b\b\b\b\b\b\b\b\b\b\b\b\b\b\b\b\b\b\b\b\b\b\b\b\b\b\b\b\b\b\b\b\b\b\b\b\b\b\b\b\b\b\b\b\b\b\b\b\b\b\b\b\b\b\b\b\b\b\b\b\b\b\b\b\b\b\b\b\b\b\b\b\b\b\b\b\b\b\b\b\r235/235 [==============================] - 5s 22ms/step - loss: 0.1372 - accuracy: 0.9427 - val_loss: 0.1690 - val_accuracy: 0.9259\n",
            "Epoch 48/100\n",
            "233/235 [============================>.] - ETA: 0s - loss: 0.1429 - accuracy: 0.9401"
          ]
        },
        {
          "output_type": "stream",
          "name": "stderr",
          "text": [
            "WARNING:tensorflow:Can save best model only with val_acc available, skipping.\n"
          ]
        },
        {
          "output_type": "stream",
          "name": "stdout",
          "text": [
            "\b\b\b\b\b\b\b\b\b\b\b\b\b\b\b\b\b\b\b\b\b\b\b\b\b\b\b\b\b\b\b\b\b\b\b\b\b\b\b\b\b\b\b\b\b\b\b\b\b\b\b\b\b\b\b\b\b\b\b\b\b\b\b\b\b\b\b\b\b\b\b\b\b\b\b\b\b\b\b\b\b\b\b\b\r235/235 [==============================] - 5s 19ms/step - loss: 0.1427 - accuracy: 0.9402 - val_loss: 0.1813 - val_accuracy: 0.9188\n",
            "Epoch 49/100\n",
            "235/235 [==============================] - ETA: 0s - loss: 0.1287 - accuracy: 0.9453"
          ]
        },
        {
          "output_type": "stream",
          "name": "stderr",
          "text": [
            "WARNING:tensorflow:Can save best model only with val_acc available, skipping.\n"
          ]
        },
        {
          "output_type": "stream",
          "name": "stdout",
          "text": [
            "\b\b\b\b\b\b\b\b\b\b\b\b\b\b\b\b\b\b\b\b\b\b\b\b\b\b\b\b\b\b\b\b\b\b\b\b\b\b\b\b\b\b\b\b\b\b\b\b\b\b\b\b\b\b\b\b\b\b\b\b\b\b\b\b\b\b\b\b\b\b\b\b\b\b\b\b\b\b\b\b\b\b\b\b\r235/235 [==============================] - 6s 26ms/step - loss: 0.1287 - accuracy: 0.9453 - val_loss: 0.1404 - val_accuracy: 0.9366\n",
            "Epoch 50/100\n",
            "235/235 [==============================] - ETA: 0s - loss: 0.1298 - accuracy: 0.9454"
          ]
        },
        {
          "output_type": "stream",
          "name": "stderr",
          "text": [
            "WARNING:tensorflow:Can save best model only with val_acc available, skipping.\n"
          ]
        },
        {
          "output_type": "stream",
          "name": "stdout",
          "text": [
            "\b\b\b\b\b\b\b\b\b\b\b\b\b\b\b\b\b\b\b\b\b\b\b\b\b\b\b\b\b\b\b\b\b\b\b\b\b\b\b\b\b\b\b\b\b\b\b\b\b\b\b\b\b\b\b\b\b\b\b\b\b\b\b\b\b\b\b\b\b\b\b\b\b\b\b\b\b\b\b\b\b\b\b\b\r235/235 [==============================] - 5s 20ms/step - loss: 0.1298 - accuracy: 0.9454 - val_loss: 0.1611 - val_accuracy: 0.9277\n",
            "Epoch 51/100\n",
            "233/235 [============================>.] - ETA: 0s - loss: 0.1253 - accuracy: 0.9483"
          ]
        },
        {
          "output_type": "stream",
          "name": "stderr",
          "text": [
            "WARNING:tensorflow:Can save best model only with val_acc available, skipping.\n"
          ]
        },
        {
          "output_type": "stream",
          "name": "stdout",
          "text": [
            "\b\b\b\b\b\b\b\b\b\b\b\b\b\b\b\b\b\b\b\b\b\b\b\b\b\b\b\b\b\b\b\b\b\b\b\b\b\b\b\b\b\b\b\b\b\b\b\b\b\b\b\b\b\b\b\b\b\b\b\b\b\b\b\b\b\b\b\b\b\b\b\b\b\b\b\b\b\b\b\b\b\b\b\b\r235/235 [==============================] - 5s 20ms/step - loss: 0.1253 - accuracy: 0.9483 - val_loss: 0.2067 - val_accuracy: 0.9109\n",
            "Epoch 52/100\n",
            "233/235 [============================>.] - ETA: 0s - loss: 0.1166 - accuracy: 0.9507"
          ]
        },
        {
          "output_type": "stream",
          "name": "stderr",
          "text": [
            "WARNING:tensorflow:Can save best model only with val_acc available, skipping.\n"
          ]
        },
        {
          "output_type": "stream",
          "name": "stdout",
          "text": [
            "\b\b\b\b\b\b\b\b\b\b\b\b\b\b\b\b\b\b\b\b\b\b\b\b\b\b\b\b\b\b\b\b\b\b\b\b\b\b\b\b\b\b\b\b\b\b\b\b\b\b\b\b\b\b\b\b\b\b\b\b\b\b\b\b\b\b\b\b\b\b\b\b\b\b\b\b\b\b\b\b\b\b\b\b\r235/235 [==============================] - 6s 25ms/step - loss: 0.1168 - accuracy: 0.9508 - val_loss: 0.2060 - val_accuracy: 0.9180\n",
            "Epoch 53/100\n",
            "233/235 [============================>.] - ETA: 0s - loss: 0.1209 - accuracy: 0.9501"
          ]
        },
        {
          "output_type": "stream",
          "name": "stderr",
          "text": [
            "WARNING:tensorflow:Can save best model only with val_acc available, skipping.\n"
          ]
        },
        {
          "output_type": "stream",
          "name": "stdout",
          "text": [
            "\b\b\b\b\b\b\b\b\b\b\b\b\b\b\b\b\b\b\b\b\b\b\b\b\b\b\b\b\b\b\b\b\b\b\b\b\b\b\b\b\b\b\b\b\b\b\b\b\b\b\b\b\b\b\b\b\b\b\b\b\b\b\b\b\b\b\b\b\b\b\b\b\b\b\b\b\b\b\b\b\b\b\b\b\r235/235 [==============================] - 5s 20ms/step - loss: 0.1210 - accuracy: 0.9502 - val_loss: 0.1753 - val_accuracy: 0.9266\n",
            "Epoch 54/100\n",
            "235/235 [==============================] - ETA: 0s - loss: 0.1421 - accuracy: 0.9419"
          ]
        },
        {
          "output_type": "stream",
          "name": "stderr",
          "text": [
            "WARNING:tensorflow:Can save best model only with val_acc available, skipping.\n"
          ]
        },
        {
          "output_type": "stream",
          "name": "stdout",
          "text": [
            "\b\b\b\b\b\b\b\b\b\b\b\b\b\b\b\b\b\b\b\b\b\b\b\b\b\b\b\b\b\b\b\b\b\b\b\b\b\b\b\b\b\b\b\b\b\b\b\b\b\b\b\b\b\b\b\b\b\b\b\b\b\b\b\b\b\b\b\b\b\b\b\b\b\b\b\b\b\b\b\b\b\b\b\b\r235/235 [==============================] - 5s 22ms/step - loss: 0.1421 - accuracy: 0.9419 - val_loss: 0.1554 - val_accuracy: 0.9322\n",
            "Epoch 55/100\n",
            "235/235 [==============================] - ETA: 0s - loss: 0.1164 - accuracy: 0.9511"
          ]
        },
        {
          "output_type": "stream",
          "name": "stderr",
          "text": [
            "WARNING:tensorflow:Can save best model only with val_acc available, skipping.\n"
          ]
        },
        {
          "output_type": "stream",
          "name": "stdout",
          "text": [
            "\b\b\b\b\b\b\b\b\b\b\b\b\b\b\b\b\b\b\b\b\b\b\b\b\b\b\b\b\b\b\b\b\b\b\b\b\b\b\b\b\b\b\b\b\b\b\b\b\b\b\b\b\b\b\b\b\b\b\b\b\b\b\b\b\b\b\b\b\b\b\b\b\b\b\b\b\b\b\b\b\b\b\b\b\r235/235 [==============================] - 5s 23ms/step - loss: 0.1164 - accuracy: 0.9511 - val_loss: 0.1738 - val_accuracy: 0.9258\n",
            "Epoch 56/100\n",
            "235/235 [==============================] - ETA: 0s - loss: 0.1070 - accuracy: 0.9559"
          ]
        },
        {
          "output_type": "stream",
          "name": "stderr",
          "text": [
            "WARNING:tensorflow:Can save best model only with val_acc available, skipping.\n"
          ]
        },
        {
          "output_type": "stream",
          "name": "stdout",
          "text": [
            "\b\b\b\b\b\b\b\b\b\b\b\b\b\b\b\b\b\b\b\b\b\b\b\b\b\b\b\b\b\b\b\b\b\b\b\b\b\b\b\b\b\b\b\b\b\b\b\b\b\b\b\b\b\b\b\b\b\b\b\b\b\b\b\b\b\b\b\b\b\b\b\b\b\b\b\b\b\b\b\b\b\b\b\b\r235/235 [==============================] - 5s 20ms/step - loss: 0.1070 - accuracy: 0.9559 - val_loss: 0.1818 - val_accuracy: 0.9239\n",
            "Epoch 57/100\n",
            "233/235 [============================>.] - ETA: 0s - loss: 0.1127 - accuracy: 0.9532"
          ]
        },
        {
          "output_type": "stream",
          "name": "stderr",
          "text": [
            "WARNING:tensorflow:Can save best model only with val_acc available, skipping.\n"
          ]
        },
        {
          "output_type": "stream",
          "name": "stdout",
          "text": [
            "\b\b\b\b\b\b\b\b\b\b\b\b\b\b\b\b\b\b\b\b\b\b\b\b\b\b\b\b\b\b\b\b\b\b\b\b\b\b\b\b\b\b\b\b\b\b\b\b\b\b\b\b\b\b\b\b\b\b\b\b\b\b\b\b\b\b\b\b\b\b\b\b\b\b\b\b\b\b\b\b\b\b\b\b\r235/235 [==============================] - 6s 25ms/step - loss: 0.1124 - accuracy: 0.9534 - val_loss: 0.1761 - val_accuracy: 0.9287\n",
            "Epoch 58/100\n",
            "233/235 [============================>.] - ETA: 0s - loss: 0.1167 - accuracy: 0.9518"
          ]
        },
        {
          "output_type": "stream",
          "name": "stderr",
          "text": [
            "WARNING:tensorflow:Can save best model only with val_acc available, skipping.\n"
          ]
        },
        {
          "output_type": "stream",
          "name": "stdout",
          "text": [
            "\b\b\b\b\b\b\b\b\b\b\b\b\b\b\b\b\b\b\b\b\b\b\b\b\b\b\b\b\b\b\b\b\b\b\b\b\b\b\b\b\b\b\b\b\b\b\b\b\b\b\b\b\b\b\b\b\b\b\b\b\b\b\b\b\b\b\b\b\b\b\b\b\b\b\b\b\b\b\b\b\b\b\b\b\r235/235 [==============================] - 5s 20ms/step - loss: 0.1164 - accuracy: 0.9519 - val_loss: 0.1945 - val_accuracy: 0.9189\n",
            "Epoch 59/100\n",
            "235/235 [==============================] - ETA: 0s - loss: 0.1155 - accuracy: 0.9519"
          ]
        },
        {
          "output_type": "stream",
          "name": "stderr",
          "text": [
            "WARNING:tensorflow:Can save best model only with val_acc available, skipping.\n"
          ]
        },
        {
          "output_type": "stream",
          "name": "stdout",
          "text": [
            "\b\b\b\b\b\b\b\b\b\b\b\b\b\b\b\b\b\b\b\b\b\b\b\b\b\b\b\b\b\b\b\b\b\b\b\b\b\b\b\b\b\b\b\b\b\b\b\b\b\b\b\b\b\b\b\b\b\b\b\b\b\b\b\b\b\b\b\b\b\b\b\b\b\b\b\b\b\b\b\b\b\b\b\b\r235/235 [==============================] - 5s 19ms/step - loss: 0.1155 - accuracy: 0.9519 - val_loss: 0.1694 - val_accuracy: 0.9281\n",
            "Epoch 60/100\n",
            "232/235 [============================>.] - ETA: 0s - loss: 0.1264 - accuracy: 0.9485"
          ]
        },
        {
          "output_type": "stream",
          "name": "stderr",
          "text": [
            "WARNING:tensorflow:Can save best model only with val_acc available, skipping.\n"
          ]
        },
        {
          "output_type": "stream",
          "name": "stdout",
          "text": [
            "\b\b\b\b\b\b\b\b\b\b\b\b\b\b\b\b\b\b\b\b\b\b\b\b\b\b\b\b\b\b\b\b\b\b\b\b\b\b\b\b\b\b\b\b\b\b\b\b\b\b\b\b\b\b\b\b\b\b\b\b\b\b\b\b\b\b\b\b\b\b\b\b\b\b\b\b\b\b\b\b\b\b\b\b\r235/235 [==============================] - 6s 24ms/step - loss: 0.1258 - accuracy: 0.9488 - val_loss: 0.1582 - val_accuracy: 0.9338\n",
            "Epoch 61/100\n",
            "235/235 [==============================] - ETA: 0s - loss: 0.1068 - accuracy: 0.9571"
          ]
        },
        {
          "output_type": "stream",
          "name": "stderr",
          "text": [
            "WARNING:tensorflow:Can save best model only with val_acc available, skipping.\n"
          ]
        },
        {
          "output_type": "stream",
          "name": "stdout",
          "text": [
            "\b\b\b\b\b\b\b\b\b\b\b\b\b\b\b\b\b\b\b\b\b\b\b\b\b\b\b\b\b\b\b\b\b\b\b\b\b\b\b\b\b\b\b\b\b\b\b\b\b\b\b\b\b\b\b\b\b\b\b\b\b\b\b\b\b\b\b\b\b\b\b\b\b\b\b\b\b\b\b\b\b\b\b\b\r235/235 [==============================] - 5s 20ms/step - loss: 0.1068 - accuracy: 0.9571 - val_loss: 0.1989 - val_accuracy: 0.9163\n",
            "Epoch 62/100\n",
            "232/235 [============================>.] - ETA: 0s - loss: 0.1321 - accuracy: 0.9458"
          ]
        },
        {
          "output_type": "stream",
          "name": "stderr",
          "text": [
            "WARNING:tensorflow:Can save best model only with val_acc available, skipping.\n"
          ]
        },
        {
          "output_type": "stream",
          "name": "stdout",
          "text": [
            "\b\b\b\b\b\b\b\b\b\b\b\b\b\b\b\b\b\b\b\b\b\b\b\b\b\b\b\b\b\b\b\b\b\b\b\b\b\b\b\b\b\b\b\b\b\b\b\b\b\b\b\b\b\b\b\b\b\b\b\b\b\b\b\b\b\b\b\b\b\b\b\b\b\b\b\b\b\b\b\b\b\b\b\b\r235/235 [==============================] - 5s 20ms/step - loss: 0.1317 - accuracy: 0.9459 - val_loss: 0.1443 - val_accuracy: 0.9394\n",
            "Epoch 63/100\n",
            "233/235 [============================>.] - ETA: 0s - loss: 0.0993 - accuracy: 0.9603"
          ]
        },
        {
          "output_type": "stream",
          "name": "stderr",
          "text": [
            "WARNING:tensorflow:Can save best model only with val_acc available, skipping.\n"
          ]
        },
        {
          "output_type": "stream",
          "name": "stdout",
          "text": [
            "\b\b\b\b\b\b\b\b\b\b\b\b\b\b\b\b\b\b\b\b\b\b\b\b\b\b\b\b\b\b\b\b\b\b\b\b\b\b\b\b\b\b\b\b\b\b\b\b\b\b\b\b\b\b\b\b\b\b\b\b\b\b\b\b\b\b\b\b\b\b\b\b\b\b\b\b\b\b\b\b\b\b\b\b\r235/235 [==============================] - 6s 24ms/step - loss: 0.0992 - accuracy: 0.9604 - val_loss: 0.1791 - val_accuracy: 0.9243\n",
            "Epoch 64/100\n",
            "234/235 [============================>.] - ETA: 0s - loss: 0.1093 - accuracy: 0.9544"
          ]
        },
        {
          "output_type": "stream",
          "name": "stderr",
          "text": [
            "WARNING:tensorflow:Can save best model only with val_acc available, skipping.\n"
          ]
        },
        {
          "output_type": "stream",
          "name": "stdout",
          "text": [
            "\b\b\b\b\b\b\b\b\b\b\b\b\b\b\b\b\b\b\b\b\b\b\b\b\b\b\b\b\b\b\b\b\b\b\b\b\b\b\b\b\b\b\b\b\b\b\b\b\b\b\b\b\b\b\b\b\b\b\b\b\b\b\b\b\b\b\b\b\b\b\b\b\b\b\b\b\b\b\b\b\b\b\b\b\r235/235 [==============================] - 5s 20ms/step - loss: 0.1093 - accuracy: 0.9545 - val_loss: 0.2028 - val_accuracy: 0.9153\n",
            "Epoch 65/100\n",
            "235/235 [==============================] - ETA: 0s - loss: 0.1038 - accuracy: 0.9578"
          ]
        },
        {
          "output_type": "stream",
          "name": "stderr",
          "text": [
            "WARNING:tensorflow:Can save best model only with val_acc available, skipping.\n"
          ]
        },
        {
          "output_type": "stream",
          "name": "stdout",
          "text": [
            "\b\b\b\b\b\b\b\b\b\b\b\b\b\b\b\b\b\b\b\b\b\b\b\b\b\b\b\b\b\b\b\b\b\b\b\b\b\b\b\b\b\b\b\b\b\b\b\b\b\b\b\b\b\b\b\b\b\b\b\b\b\b\b\b\b\b\b\b\b\b\b\b\b\b\b\b\b\b\b\b\b\b\b\b\r235/235 [==============================] - 6s 25ms/step - loss: 0.1038 - accuracy: 0.9578 - val_loss: 0.1971 - val_accuracy: 0.9192\n",
            "Epoch 66/100\n",
            "235/235 [==============================] - ETA: 0s - loss: 0.1132 - accuracy: 0.9552"
          ]
        },
        {
          "output_type": "stream",
          "name": "stderr",
          "text": [
            "WARNING:tensorflow:Can save best model only with val_acc available, skipping.\n"
          ]
        },
        {
          "output_type": "stream",
          "name": "stdout",
          "text": [
            "\b\b\b\b\b\b\b\b\b\b\b\b\b\b\b\b\b\b\b\b\b\b\b\b\b\b\b\b\b\b\b\b\b\b\b\b\b\b\b\b\b\b\b\b\b\b\b\b\b\b\b\b\b\b\b\b\b\b\b\b\b\b\b\b\b\b\b\b\b\b\b\b\b\b\b\b\b\b\b\b\b\b\b\b\r235/235 [==============================] - 5s 21ms/step - loss: 0.1132 - accuracy: 0.9552 - val_loss: 0.1656 - val_accuracy: 0.9322\n",
            "Epoch 67/100\n",
            "235/235 [==============================] - ETA: 0s - loss: 0.1237 - accuracy: 0.9498"
          ]
        },
        {
          "output_type": "stream",
          "name": "stderr",
          "text": [
            "WARNING:tensorflow:Can save best model only with val_acc available, skipping.\n"
          ]
        },
        {
          "output_type": "stream",
          "name": "stdout",
          "text": [
            "\b\b\b\b\b\b\b\b\b\b\b\b\b\b\b\b\b\b\b\b\b\b\b\b\b\b\b\b\b\b\b\b\b\b\b\b\b\b\b\b\b\b\b\b\b\b\b\b\b\b\b\b\b\b\b\b\b\b\b\b\b\b\b\b\b\b\b\b\b\b\b\b\b\b\b\b\b\b\b\b\b\b\b\b\r235/235 [==============================] - 5s 20ms/step - loss: 0.1237 - accuracy: 0.9498 - val_loss: 0.1486 - val_accuracy: 0.9367\n",
            "Epoch 68/100\n",
            "234/235 [============================>.] - ETA: 0s - loss: 0.0867 - accuracy: 0.9650"
          ]
        },
        {
          "output_type": "stream",
          "name": "stderr",
          "text": [
            "WARNING:tensorflow:Can save best model only with val_acc available, skipping.\n"
          ]
        },
        {
          "output_type": "stream",
          "name": "stdout",
          "text": [
            "\b\b\b\b\b\b\b\b\b\b\b\b\b\b\b\b\b\b\b\b\b\b\b\b\b\b\b\b\b\b\b\b\b\b\b\b\b\b\b\b\b\b\b\b\b\b\b\b\b\b\b\b\b\b\b\b\b\b\b\b\b\b\b\b\b\b\b\b\b\b\b\b\b\b\b\b\b\b\b\b\b\b\b\b\r235/235 [==============================] - 6s 25ms/step - loss: 0.0867 - accuracy: 0.9649 - val_loss: 0.1675 - val_accuracy: 0.9329\n",
            "Epoch 69/100\n",
            "234/235 [============================>.] - ETA: 0s - loss: 0.0914 - accuracy: 0.9629"
          ]
        },
        {
          "output_type": "stream",
          "name": "stderr",
          "text": [
            "WARNING:tensorflow:Can save best model only with val_acc available, skipping.\n"
          ]
        },
        {
          "output_type": "stream",
          "name": "stdout",
          "text": [
            "\b\b\b\b\b\b\b\b\b\b\b\b\b\b\b\b\b\b\b\b\b\b\b\b\b\b\b\b\b\b\b\b\b\b\b\b\b\b\b\b\b\b\b\b\b\b\b\b\b\b\b\b\b\b\b\b\b\b\b\b\b\b\b\b\b\b\b\b\b\b\b\b\b\b\b\b\b\b\b\b\b\b\b\b\r235/235 [==============================] - 5s 20ms/step - loss: 0.0914 - accuracy: 0.9629 - val_loss: 0.1692 - val_accuracy: 0.9297\n",
            "Epoch 70/100\n",
            "235/235 [==============================] - ETA: 0s - loss: 0.1046 - accuracy: 0.9577"
          ]
        },
        {
          "output_type": "stream",
          "name": "stderr",
          "text": [
            "WARNING:tensorflow:Can save best model only with val_acc available, skipping.\n"
          ]
        },
        {
          "output_type": "stream",
          "name": "stdout",
          "text": [
            "\b\b\b\b\b\b\b\b\b\b\b\b\b\b\b\b\b\b\b\b\b\b\b\b\b\b\b\b\b\b\b\b\b\b\b\b\b\b\b\b\b\b\b\b\b\b\b\b\b\b\b\b\b\b\b\b\b\b\b\b\b\b\b\b\b\b\b\b\b\b\b\b\b\b\b\b\b\b\b\b\b\b\b\b\r235/235 [==============================] - 5s 19ms/step - loss: 0.1046 - accuracy: 0.9577 - val_loss: 0.1590 - val_accuracy: 0.9328\n",
            "Epoch 71/100\n",
            "233/235 [============================>.] - ETA: 0s - loss: 0.1045 - accuracy: 0.9573"
          ]
        },
        {
          "output_type": "stream",
          "name": "stderr",
          "text": [
            "WARNING:tensorflow:Can save best model only with val_acc available, skipping.\n"
          ]
        },
        {
          "output_type": "stream",
          "name": "stdout",
          "text": [
            "\b\b\b\b\b\b\b\b\b\b\b\b\b\b\b\b\b\b\b\b\b\b\b\b\b\b\b\b\b\b\b\b\b\b\b\b\b\b\b\b\b\b\b\b\b\b\b\b\b\b\b\b\b\b\b\b\b\b\b\b\b\b\b\b\b\b\b\b\b\b\b\b\b\b\b\b\b\b\b\b\b\b\b\b\r235/235 [==============================] - 6s 24ms/step - loss: 0.1042 - accuracy: 0.9575 - val_loss: 0.2239 - val_accuracy: 0.9103\n",
            "Epoch 72/100\n",
            "233/235 [============================>.] - ETA: 0s - loss: 0.0928 - accuracy: 0.9622"
          ]
        },
        {
          "output_type": "stream",
          "name": "stderr",
          "text": [
            "WARNING:tensorflow:Can save best model only with val_acc available, skipping.\n"
          ]
        },
        {
          "output_type": "stream",
          "name": "stdout",
          "text": [
            "\b\b\b\b\b\b\b\b\b\b\b\b\b\b\b\b\b\b\b\b\b\b\b\b\b\b\b\b\b\b\b\b\b\b\b\b\b\b\b\b\b\b\b\b\b\b\b\b\b\b\b\b\b\b\b\b\b\b\b\b\b\b\b\b\b\b\b\b\b\b\b\b\b\b\b\b\b\b\b\b\b\b\b\b\r235/235 [==============================] - 5s 20ms/step - loss: 0.0929 - accuracy: 0.9622 - val_loss: 0.1387 - val_accuracy: 0.9420\n",
            "Epoch 73/100\n",
            "235/235 [==============================] - ETA: 0s - loss: 0.0900 - accuracy: 0.9640"
          ]
        },
        {
          "output_type": "stream",
          "name": "stderr",
          "text": [
            "WARNING:tensorflow:Can save best model only with val_acc available, skipping.\n"
          ]
        },
        {
          "output_type": "stream",
          "name": "stdout",
          "text": [
            "\b\b\b\b\b\b\b\b\b\b\b\b\b\b\b\b\b\b\b\b\b\b\b\b\b\b\b\b\b\b\b\b\b\b\b\b\b\b\b\b\b\b\b\b\b\b\b\b\b\b\b\b\b\b\b\b\b\b\b\b\b\b\b\b\b\b\b\b\b\b\b\b\b\b\b\b\b\b\b\b\b\b\b\b\r235/235 [==============================] - 5s 22ms/step - loss: 0.0900 - accuracy: 0.9640 - val_loss: 0.1600 - val_accuracy: 0.9337\n",
            "Epoch 74/100\n",
            "233/235 [============================>.] - ETA: 0s - loss: 0.1100 - accuracy: 0.9557"
          ]
        },
        {
          "output_type": "stream",
          "name": "stderr",
          "text": [
            "WARNING:tensorflow:Can save best model only with val_acc available, skipping.\n"
          ]
        },
        {
          "output_type": "stream",
          "name": "stdout",
          "text": [
            "\b\b\b\b\b\b\b\b\b\b\b\b\b\b\b\b\b\b\b\b\b\b\b\b\b\b\b\b\b\b\b\b\b\b\b\b\b\b\b\b\b\b\b\b\b\b\b\b\b\b\b\b\b\b\b\b\b\b\b\b\b\b\b\b\b\b\b\b\b\b\b\b\b\b\b\b\b\b\b\b\b\b\b\b\r235/235 [==============================] - 5s 23ms/step - loss: 0.1098 - accuracy: 0.9557 - val_loss: 0.1603 - val_accuracy: 0.9341\n",
            "Epoch 75/100\n",
            "235/235 [==============================] - ETA: 0s - loss: 0.0936 - accuracy: 0.9635"
          ]
        },
        {
          "output_type": "stream",
          "name": "stderr",
          "text": [
            "WARNING:tensorflow:Can save best model only with val_acc available, skipping.\n"
          ]
        },
        {
          "output_type": "stream",
          "name": "stdout",
          "text": [
            "\b\b\b\b\b\b\b\b\b\b\b\b\b\b\b\b\b\b\b\b\b\b\b\b\b\b\b\b\b\b\b\b\b\b\b\b\b\b\b\b\b\b\b\b\b\b\b\b\b\b\b\b\b\b\b\b\b\b\b\b\b\b\b\b\b\b\b\b\b\b\b\b\b\b\b\b\b\b\b\b\b\b\b\b\r235/235 [==============================] - 5s 20ms/step - loss: 0.0936 - accuracy: 0.9635 - val_loss: 0.2462 - val_accuracy: 0.9052\n",
            "Epoch 76/100\n",
            "234/235 [============================>.] - ETA: 0s - loss: 0.0861 - accuracy: 0.9664"
          ]
        },
        {
          "output_type": "stream",
          "name": "stderr",
          "text": [
            "WARNING:tensorflow:Can save best model only with val_acc available, skipping.\n"
          ]
        },
        {
          "output_type": "stream",
          "name": "stdout",
          "text": [
            "\b\b\b\b\b\b\b\b\b\b\b\b\b\b\b\b\b\b\b\b\b\b\b\b\b\b\b\b\b\b\b\b\b\b\b\b\b\b\b\b\b\b\b\b\b\b\b\b\b\b\b\b\b\b\b\b\b\b\b\b\b\b\b\b\b\b\b\b\b\b\b\b\b\b\b\b\b\b\b\b\b\b\b\b\r235/235 [==============================] - 6s 26ms/step - loss: 0.0861 - accuracy: 0.9664 - val_loss: 0.2697 - val_accuracy: 0.9001\n",
            "Epoch 77/100\n",
            "233/235 [============================>.] - ETA: 0s - loss: 0.0921 - accuracy: 0.9642"
          ]
        },
        {
          "output_type": "stream",
          "name": "stderr",
          "text": [
            "WARNING:tensorflow:Can save best model only with val_acc available, skipping.\n"
          ]
        },
        {
          "output_type": "stream",
          "name": "stdout",
          "text": [
            "\b\b\b\b\b\b\b\b\b\b\b\b\b\b\b\b\b\b\b\b\b\b\b\b\b\b\b\b\b\b\b\b\b\b\b\b\b\b\b\b\b\b\b\b\b\b\b\b\b\b\b\b\b\b\b\b\b\b\b\b\b\b\b\b\b\b\b\b\b\b\b\b\b\b\b\b\b\b\b\b\b\b\b\b\r235/235 [==============================] - 5s 19ms/step - loss: 0.0922 - accuracy: 0.9641 - val_loss: 0.1756 - val_accuracy: 0.9289\n",
            "Epoch 78/100\n",
            "234/235 [============================>.] - ETA: 0s - loss: 0.0801 - accuracy: 0.9675"
          ]
        },
        {
          "output_type": "stream",
          "name": "stderr",
          "text": [
            "WARNING:tensorflow:Can save best model only with val_acc available, skipping.\n"
          ]
        },
        {
          "output_type": "stream",
          "name": "stdout",
          "text": [
            "\b\b\b\b\b\b\b\b\b\b\b\b\b\b\b\b\b\b\b\b\b\b\b\b\b\b\b\b\b\b\b\b\b\b\b\b\b\b\b\b\b\b\b\b\b\b\b\b\b\b\b\b\b\b\b\b\b\b\b\b\b\b\b\b\b\b\b\b\b\b\b\b\b\b\b\b\b\b\b\b\b\b\b\b\r235/235 [==============================] - 5s 19ms/step - loss: 0.0801 - accuracy: 0.9675 - val_loss: 0.1632 - val_accuracy: 0.9347\n",
            "Epoch 79/100\n",
            "235/235 [==============================] - ETA: 0s - loss: 0.0907 - accuracy: 0.9625"
          ]
        },
        {
          "output_type": "stream",
          "name": "stderr",
          "text": [
            "WARNING:tensorflow:Can save best model only with val_acc available, skipping.\n"
          ]
        },
        {
          "output_type": "stream",
          "name": "stdout",
          "text": [
            "\b\b\b\b\b\b\b\b\b\b\b\b\b\b\b\b\b\b\b\b\b\b\b\b\b\b\b\b\b\b\b\b\b\b\b\b\b\b\b\b\b\b\b\b\b\b\b\b\b\b\b\b\b\b\b\b\b\b\b\b\b\b\b\b\b\b\b\b\b\b\b\b\b\b\b\b\b\b\b\b\b\b\b\b\r235/235 [==============================] - 6s 25ms/step - loss: 0.0907 - accuracy: 0.9625 - val_loss: 0.1973 - val_accuracy: 0.9236\n",
            "Epoch 80/100\n",
            "235/235 [==============================] - ETA: 0s - loss: 0.0951 - accuracy: 0.9606"
          ]
        },
        {
          "output_type": "stream",
          "name": "stderr",
          "text": [
            "WARNING:tensorflow:Can save best model only with val_acc available, skipping.\n"
          ]
        },
        {
          "output_type": "stream",
          "name": "stdout",
          "text": [
            "\b\b\b\b\b\b\b\b\b\b\b\b\b\b\b\b\b\b\b\b\b\b\b\b\b\b\b\b\b\b\b\b\b\b\b\b\b\b\b\b\b\b\b\b\b\b\b\b\b\b\b\b\b\b\b\b\b\b\b\b\b\b\b\b\b\b\b\b\b\b\b\b\b\b\b\b\b\b\b\b\b\b\b\b\r235/235 [==============================] - 5s 20ms/step - loss: 0.0951 - accuracy: 0.9606 - val_loss: 0.1641 - val_accuracy: 0.9331\n",
            "Epoch 81/100\n",
            "235/235 [==============================] - ETA: 0s - loss: 0.0898 - accuracy: 0.9649"
          ]
        },
        {
          "output_type": "stream",
          "name": "stderr",
          "text": [
            "WARNING:tensorflow:Can save best model only with val_acc available, skipping.\n"
          ]
        },
        {
          "output_type": "stream",
          "name": "stdout",
          "text": [
            "\b\b\b\b\b\b\b\b\b\b\b\b\b\b\b\b\b\b\b\b\b\b\b\b\b\b\b\b\b\b\b\b\b\b\b\b\b\b\b\b\b\b\b\b\b\b\b\b\b\b\b\b\b\b\b\b\b\b\b\b\b\b\b\b\b\b\b\b\b\b\b\b\b\b\b\b\b\b\b\b\b\b\b\b\r235/235 [==============================] - 5s 23ms/step - loss: 0.0898 - accuracy: 0.9649 - val_loss: 0.1745 - val_accuracy: 0.9302\n",
            "Epoch 82/100\n",
            "234/235 [============================>.] - ETA: 0s - loss: 0.0810 - accuracy: 0.9684"
          ]
        },
        {
          "output_type": "stream",
          "name": "stderr",
          "text": [
            "WARNING:tensorflow:Can save best model only with val_acc available, skipping.\n"
          ]
        },
        {
          "output_type": "stream",
          "name": "stdout",
          "text": [
            "\b\b\b\b\b\b\b\b\b\b\b\b\b\b\b\b\b\b\b\b\b\b\b\b\b\b\b\b\b\b\b\b\b\b\b\b\b\b\b\b\b\b\b\b\b\b\b\b\b\b\b\b\b\b\b\b\b\b\b\b\b\b\b\b\b\b\b\b\b\b\b\b\b\b\b\b\b\b\b\b\b\b\b\b\r235/235 [==============================] - 5s 22ms/step - loss: 0.0810 - accuracy: 0.9684 - val_loss: 0.2197 - val_accuracy: 0.9188\n",
            "Epoch 83/100\n",
            "232/235 [============================>.] - ETA: 0s - loss: 0.0859 - accuracy: 0.9654"
          ]
        },
        {
          "output_type": "stream",
          "name": "stderr",
          "text": [
            "WARNING:tensorflow:Can save best model only with val_acc available, skipping.\n"
          ]
        },
        {
          "output_type": "stream",
          "name": "stdout",
          "text": [
            "\b\b\b\b\b\b\b\b\b\b\b\b\b\b\b\b\b\b\b\b\b\b\b\b\b\b\b\b\b\b\b\b\b\b\b\b\b\b\b\b\b\b\b\b\b\b\b\b\b\b\b\b\b\b\b\b\b\b\b\b\b\b\b\b\b\b\b\b\b\b\b\b\b\b\b\b\b\b\b\b\b\b\b\b\r235/235 [==============================] - 5s 20ms/step - loss: 0.0864 - accuracy: 0.9653 - val_loss: 0.2367 - val_accuracy: 0.9106\n",
            "Epoch 84/100\n",
            "235/235 [==============================] - ETA: 0s - loss: 0.0927 - accuracy: 0.9631"
          ]
        },
        {
          "output_type": "stream",
          "name": "stderr",
          "text": [
            "WARNING:tensorflow:Can save best model only with val_acc available, skipping.\n"
          ]
        },
        {
          "output_type": "stream",
          "name": "stdout",
          "text": [
            "\b\b\b\b\b\b\b\b\b\b\b\b\b\b\b\b\b\b\b\b\b\b\b\b\b\b\b\b\b\b\b\b\b\b\b\b\b\b\b\b\b\b\b\b\b\b\b\b\b\b\b\b\b\b\b\b\b\b\b\b\b\b\b\b\b\b\b\b\b\b\b\b\b\b\b\b\b\b\b\b\b\b\b\b\r235/235 [==============================] - 6s 27ms/step - loss: 0.0927 - accuracy: 0.9631 - val_loss: 0.2005 - val_accuracy: 0.9207\n",
            "Epoch 85/100\n",
            "235/235 [==============================] - ETA: 0s - loss: 0.0786 - accuracy: 0.9686"
          ]
        },
        {
          "output_type": "stream",
          "name": "stderr",
          "text": [
            "WARNING:tensorflow:Can save best model only with val_acc available, skipping.\n"
          ]
        },
        {
          "output_type": "stream",
          "name": "stdout",
          "text": [
            "\b\b\b\b\b\b\b\b\b\b\b\b\b\b\b\b\b\b\b\b\b\b\b\b\b\b\b\b\b\b\b\b\b\b\b\b\b\b\b\b\b\b\b\b\b\b\b\b\b\b\b\b\b\b\b\b\b\b\b\b\b\b\b\b\b\b\b\b\b\b\b\b\b\b\b\b\b\b\b\b\b\b\b\b\r235/235 [==============================] - 5s 20ms/step - loss: 0.0786 - accuracy: 0.9686 - val_loss: 0.2405 - val_accuracy: 0.9133\n",
            "Epoch 86/100\n",
            "233/235 [============================>.] - ETA: 0s - loss: 0.0966 - accuracy: 0.9610"
          ]
        },
        {
          "output_type": "stream",
          "name": "stderr",
          "text": [
            "WARNING:tensorflow:Can save best model only with val_acc available, skipping.\n"
          ]
        },
        {
          "output_type": "stream",
          "name": "stdout",
          "text": [
            "\b\b\b\b\b\b\b\b\b\b\b\b\b\b\b\b\b\b\b\b\b\b\b\b\b\b\b\b\b\b\b\b\b\b\b\b\b\b\b\b\b\b\b\b\b\b\b\b\b\b\b\b\b\b\b\b\b\b\b\b\b\b\b\b\b\b\b\b\b\b\b\b\b\b\b\b\b\b\b\b\b\b\b\b\r235/235 [==============================] - 5s 20ms/step - loss: 0.0965 - accuracy: 0.9610 - val_loss: 0.1971 - val_accuracy: 0.9220\n",
            "Epoch 87/100\n",
            "234/235 [============================>.] - ETA: 0s - loss: 0.0771 - accuracy: 0.9692"
          ]
        },
        {
          "output_type": "stream",
          "name": "stderr",
          "text": [
            "WARNING:tensorflow:Can save best model only with val_acc available, skipping.\n"
          ]
        },
        {
          "output_type": "stream",
          "name": "stdout",
          "text": [
            "\b\b\b\b\b\b\b\b\b\b\b\b\b\b\b\b\b\b\b\b\b\b\b\b\b\b\b\b\b\b\b\b\b\b\b\b\b\b\b\b\b\b\b\b\b\b\b\b\b\b\b\b\b\b\b\b\b\b\b\b\b\b\b\b\b\b\b\b\b\b\b\b\b\b\b\b\b\b\b\b\b\b\b\b\r235/235 [==============================] - 6s 25ms/step - loss: 0.0771 - accuracy: 0.9692 - val_loss: 0.2083 - val_accuracy: 0.9222\n",
            "Epoch 88/100\n",
            "233/235 [============================>.] - ETA: 0s - loss: 0.0824 - accuracy: 0.9664"
          ]
        },
        {
          "output_type": "stream",
          "name": "stderr",
          "text": [
            "WARNING:tensorflow:Can save best model only with val_acc available, skipping.\n"
          ]
        },
        {
          "output_type": "stream",
          "name": "stdout",
          "text": [
            "\b\b\b\b\b\b\b\b\b\b\b\b\b\b\b\b\b\b\b\b\b\b\b\b\b\b\b\b\b\b\b\b\b\b\b\b\b\b\b\b\b\b\b\b\b\b\b\b\b\b\b\b\b\b\b\b\b\b\b\b\b\b\b\b\b\b\b\b\b\b\b\b\b\b\b\b\b\b\b\b\b\b\b\b\r235/235 [==============================] - 5s 20ms/step - loss: 0.0822 - accuracy: 0.9665 - val_loss: 0.3543 - val_accuracy: 0.8862\n",
            "Epoch 89/100\n",
            "235/235 [==============================] - ETA: 0s - loss: 0.0811 - accuracy: 0.9675"
          ]
        },
        {
          "output_type": "stream",
          "name": "stderr",
          "text": [
            "WARNING:tensorflow:Can save best model only with val_acc available, skipping.\n"
          ]
        },
        {
          "output_type": "stream",
          "name": "stdout",
          "text": [
            "\b\b\b\b\b\b\b\b\b\b\b\b\b\b\b\b\b\b\b\b\b\b\b\b\b\b\b\b\b\b\b\b\b\b\b\b\b\b\b\b\b\b\b\b\b\b\b\b\b\b\b\b\b\b\b\b\b\b\b\b\b\b\b\b\b\b\b\b\b\b\b\b\b\b\b\b\b\b\b\b\b\b\b\b\r235/235 [==============================] - 5s 22ms/step - loss: 0.0811 - accuracy: 0.9675 - val_loss: 0.1919 - val_accuracy: 0.9269\n",
            "Epoch 90/100\n",
            "235/235 [==============================] - ETA: 0s - loss: 0.0745 - accuracy: 0.9708"
          ]
        },
        {
          "output_type": "stream",
          "name": "stderr",
          "text": [
            "WARNING:tensorflow:Can save best model only with val_acc available, skipping.\n"
          ]
        },
        {
          "output_type": "stream",
          "name": "stdout",
          "text": [
            "\b\b\b\b\b\b\b\b\b\b\b\b\b\b\b\b\b\b\b\b\b\b\b\b\b\b\b\b\b\b\b\b\b\b\b\b\b\b\b\b\b\b\b\b\b\b\b\b\b\b\b\b\b\b\b\b\b\b\b\b\b\b\b\b\b\b\b\b\b\b\b\b\b\b\b\b\b\b\b\b\b\b\b\b\r235/235 [==============================] - 5s 23ms/step - loss: 0.0745 - accuracy: 0.9708 - val_loss: 0.1807 - val_accuracy: 0.9300\n",
            "Epoch 91/100\n",
            "235/235 [==============================] - ETA: 0s - loss: 0.0932 - accuracy: 0.9643"
          ]
        },
        {
          "output_type": "stream",
          "name": "stderr",
          "text": [
            "WARNING:tensorflow:Can save best model only with val_acc available, skipping.\n"
          ]
        },
        {
          "output_type": "stream",
          "name": "stdout",
          "text": [
            "\b\b\b\b\b\b\b\b\b\b\b\b\b\b\b\b\b\b\b\b\b\b\b\b\b\b\b\b\b\b\b\b\b\b\b\b\b\b\b\b\b\b\b\b\b\b\b\b\b\b\b\b\b\b\b\b\b\b\b\b\b\b\b\b\b\b\b\b\b\b\b\b\b\b\b\b\b\b\b\b\b\b\b\b\r235/235 [==============================] - 5s 20ms/step - loss: 0.0932 - accuracy: 0.9643 - val_loss: 0.1618 - val_accuracy: 0.9343\n",
            "Epoch 92/100\n",
            "234/235 [============================>.] - ETA: 0s - loss: 0.0647 - accuracy: 0.9762"
          ]
        },
        {
          "output_type": "stream",
          "name": "stderr",
          "text": [
            "WARNING:tensorflow:Can save best model only with val_acc available, skipping.\n"
          ]
        },
        {
          "output_type": "stream",
          "name": "stdout",
          "text": [
            "\b\b\b\b\b\b\b\b\b\b\b\b\b\b\b\b\b\b\b\b\b\b\b\b\b\b\b\b\b\b\b\b\b\b\b\b\b\b\b\b\b\b\b\b\b\b\b\b\b\b\b\b\b\b\b\b\b\b\b\b\b\b\b\b\b\b\b\b\b\b\b\b\b\b\b\b\b\b\b\b\b\b\b\b\r235/235 [==============================] - 6s 26ms/step - loss: 0.0647 - accuracy: 0.9762 - val_loss: 0.1994 - val_accuracy: 0.9243\n",
            "Epoch 93/100\n",
            "233/235 [============================>.] - ETA: 0s - loss: 0.0753 - accuracy: 0.9699"
          ]
        },
        {
          "output_type": "stream",
          "name": "stderr",
          "text": [
            "WARNING:tensorflow:Can save best model only with val_acc available, skipping.\n"
          ]
        },
        {
          "output_type": "stream",
          "name": "stdout",
          "text": [
            "\b\b\b\b\b\b\b\b\b\b\b\b\b\b\b\b\b\b\b\b\b\b\b\b\b\b\b\b\b\b\b\b\b\b\b\b\b\b\b\b\b\b\b\b\b\b\b\b\b\b\b\b\b\b\b\b\b\b\b\b\b\b\b\b\b\b\b\b\b\b\b\b\b\b\b\b\b\b\b\b\b\b\b\b\r235/235 [==============================] - 5s 20ms/step - loss: 0.0752 - accuracy: 0.9699 - val_loss: 0.1622 - val_accuracy: 0.9371\n",
            "Epoch 94/100\n",
            "234/235 [============================>.] - ETA: 0s - loss: 0.0702 - accuracy: 0.9711"
          ]
        },
        {
          "output_type": "stream",
          "name": "stderr",
          "text": [
            "WARNING:tensorflow:Can save best model only with val_acc available, skipping.\n"
          ]
        },
        {
          "output_type": "stream",
          "name": "stdout",
          "text": [
            "\b\b\b\b\b\b\b\b\b\b\b\b\b\b\b\b\b\b\b\b\b\b\b\b\b\b\b\b\b\b\b\b\b\b\b\b\b\b\b\b\b\b\b\b\b\b\b\b\b\b\b\b\b\b\b\b\b\b\b\b\b\b\b\b\b\b\b\b\b\b\b\b\b\b\b\b\b\b\b\b\b\b\b\b\r235/235 [==============================] - 5s 19ms/step - loss: 0.0703 - accuracy: 0.9711 - val_loss: 0.1832 - val_accuracy: 0.9288\n",
            "Epoch 95/100\n",
            "232/235 [============================>.] - ETA: 0s - loss: 0.0800 - accuracy: 0.9692"
          ]
        },
        {
          "output_type": "stream",
          "name": "stderr",
          "text": [
            "WARNING:tensorflow:Can save best model only with val_acc available, skipping.\n"
          ]
        },
        {
          "output_type": "stream",
          "name": "stdout",
          "text": [
            "\b\b\b\b\b\b\b\b\b\b\b\b\b\b\b\b\b\b\b\b\b\b\b\b\b\b\b\b\b\b\b\b\b\b\b\b\b\b\b\b\b\b\b\b\b\b\b\b\b\b\b\b\b\b\b\b\b\b\b\b\b\b\b\b\b\b\b\b\b\b\b\b\b\b\b\b\b\b\b\b\b\b\b\b\r235/235 [==============================] - 6s 25ms/step - loss: 0.0799 - accuracy: 0.9691 - val_loss: 0.2126 - val_accuracy: 0.9236\n",
            "Epoch 96/100\n",
            "234/235 [============================>.] - ETA: 0s - loss: 0.0643 - accuracy: 0.9744"
          ]
        },
        {
          "output_type": "stream",
          "name": "stderr",
          "text": [
            "WARNING:tensorflow:Can save best model only with val_acc available, skipping.\n"
          ]
        },
        {
          "output_type": "stream",
          "name": "stdout",
          "text": [
            "\b\b\b\b\b\b\b\b\b\b\b\b\b\b\b\b\b\b\b\b\b\b\b\b\b\b\b\b\b\b\b\b\b\b\b\b\b\b\b\b\b\b\b\b\b\b\b\b\b\b\b\b\b\b\b\b\b\b\b\b\b\b\b\b\b\b\b\b\b\b\b\b\b\b\b\b\b\b\b\b\b\b\b\b\r235/235 [==============================] - 5s 19ms/step - loss: 0.0643 - accuracy: 0.9744 - val_loss: 0.2156 - val_accuracy: 0.9177\n",
            "Epoch 97/100\n",
            "235/235 [==============================] - ETA: 0s - loss: 0.0803 - accuracy: 0.9690"
          ]
        },
        {
          "output_type": "stream",
          "name": "stderr",
          "text": [
            "WARNING:tensorflow:Can save best model only with val_acc available, skipping.\n"
          ]
        },
        {
          "output_type": "stream",
          "name": "stdout",
          "text": [
            "\b\b\b\b\b\b\b\b\b\b\b\b\b\b\b\b\b\b\b\b\b\b\b\b\b\b\b\b\b\b\b\b\b\b\b\b\b\b\b\b\b\b\b\b\b\b\b\b\b\b\b\b\b\b\b\b\b\b\b\b\b\b\b\b\b\b\b\b\b\b\b\b\b\b\b\b\b\b\b\b\b\b\b\b\r235/235 [==============================] - 5s 21ms/step - loss: 0.0803 - accuracy: 0.9690 - val_loss: 0.2207 - val_accuracy: 0.9176\n",
            "Epoch 98/100\n",
            "234/235 [============================>.] - ETA: 0s - loss: 0.0668 - accuracy: 0.9741"
          ]
        },
        {
          "output_type": "stream",
          "name": "stderr",
          "text": [
            "WARNING:tensorflow:Can save best model only with val_acc available, skipping.\n"
          ]
        },
        {
          "output_type": "stream",
          "name": "stdout",
          "text": [
            "\b\b\b\b\b\b\b\b\b\b\b\b\b\b\b\b\b\b\b\b\b\b\b\b\b\b\b\b\b\b\b\b\b\b\b\b\b\b\b\b\b\b\b\b\b\b\b\b\b\b\b\b\b\b\b\b\b\b\b\b\b\b\b\b\b\b\b\b\b\b\b\b\b\b\b\b\b\b\b\b\b\b\b\b\r235/235 [==============================] - 5s 23ms/step - loss: 0.0668 - accuracy: 0.9741 - val_loss: 0.1795 - val_accuracy: 0.9294\n",
            "Epoch 99/100\n",
            "234/235 [============================>.] - ETA: 0s - loss: 0.0883 - accuracy: 0.9649"
          ]
        },
        {
          "output_type": "stream",
          "name": "stderr",
          "text": [
            "WARNING:tensorflow:Can save best model only with val_acc available, skipping.\n"
          ]
        },
        {
          "output_type": "stream",
          "name": "stdout",
          "text": [
            "\b\b\b\b\b\b\b\b\b\b\b\b\b\b\b\b\b\b\b\b\b\b\b\b\b\b\b\b\b\b\b\b\b\b\b\b\b\b\b\b\b\b\b\b\b\b\b\b\b\b\b\b\b\b\b\b\b\b\b\b\b\b\b\b\b\b\b\b\b\b\b\b\b\b\b\b\b\b\b\b\b\b\b\b\r235/235 [==============================] - 5s 20ms/step - loss: 0.0882 - accuracy: 0.9650 - val_loss: 0.2014 - val_accuracy: 0.9249\n",
            "Epoch 100/100\n",
            "234/235 [============================>.] - ETA: 0s - loss: 0.0588 - accuracy: 0.9777"
          ]
        },
        {
          "output_type": "stream",
          "name": "stderr",
          "text": [
            "WARNING:tensorflow:Can save best model only with val_acc available, skipping.\n"
          ]
        },
        {
          "output_type": "stream",
          "name": "stdout",
          "text": [
            "\b\b\b\b\b\b\b\b\b\b\b\b\b\b\b\b\b\b\b\b\b\b\b\b\b\b\b\b\b\b\b\b\b\b\b\b\b\b\b\b\b\b\b\b\b\b\b\b\b\b\b\b\b\b\b\b\b\b\b\b\b\b\b\b\b\b\b\b\b\b\b\b\b\b\b\b\b\b\b\b\b\b\b\b\r235/235 [==============================] - 6s 25ms/step - loss: 0.0588 - accuracy: 0.9777 - val_loss: 0.2432 - val_accuracy: 0.9159\n"
          ]
        },
        {
          "output_type": "execute_result",
          "data": {
            "text/plain": [
              "<keras.callbacks.History at 0x7f5fefa10130>"
            ]
          },
          "metadata": {},
          "execution_count": 45
        }
      ]
    },
    {
      "cell_type": "code",
      "source": [
        "#loading the model and checking accuracy on the test data\n",
        "# model = load_model('best_model.pkl')\n",
        "\n",
        "from sklearn.metrics import accuracy_score\n",
        "test_preds = model.predict(sequence_test)\n",
        "#accuracy_score(target_test, test_preds)"
      ],
      "metadata": {
        "id": "88OB4Zgtjn9P",
        "colab": {
          "base_uri": "https://localhost:8080/"
        },
        "outputId": "2ef7a87f-ae28-4b8b-f96d-00b3b0ecb209"
      },
      "execution_count": null,
      "outputs": [
        {
          "output_type": "stream",
          "name": "stdout",
          "text": [
            "313/313 [==============================] - 5s 8ms/step\n"
          ]
        }
      ]
    },
    {
      "cell_type": "code",
      "source": [
        "test_preds"
      ],
      "metadata": {
        "id": "D7Yatd-qbMgo",
        "colab": {
          "base_uri": "https://localhost:8080/"
        },
        "outputId": "eec5a6db-be0f-41d8-efe2-861a79d9369a"
      },
      "execution_count": null,
      "outputs": [
        {
          "output_type": "execute_result",
          "data": {
            "text/plain": [
              "array([[3.2915480e-06, 1.0982461e-11, 5.2318473e-08, 9.9999666e-01],\n",
              "       [1.6373416e-07, 8.5345908e-07, 9.5098370e-01, 4.9015321e-02],\n",
              "       [2.0065638e-05, 9.9996936e-01, 1.0664883e-05, 3.6139196e-09],\n",
              "       ...,\n",
              "       [9.9999630e-01, 6.9546439e-07, 2.4889091e-11, 2.9405146e-06],\n",
              "       [1.7732360e-05, 9.9998224e-01, 2.1364240e-08, 1.2258234e-11],\n",
              "       [7.2912292e-07, 2.4439554e-08, 2.2297073e-02, 9.7770226e-01]],\n",
              "      dtype=float32)"
            ]
          },
          "metadata": {},
          "execution_count": 47
        }
      ]
    },
    {
      "cell_type": "code",
      "source": [
        "preds=[]\n",
        "for i in range(len(target_test)):\n",
        "  if test_preds[i][0]>=test_preds[i][1]:\n",
        "    if test_preds[i][0]>=test_preds[i][2]:\n",
        "      if test_preds[i][0]>=test_preds[i][3]:\n",
        "        preds.append(0)\n",
        "  if test_preds[i][1]>=test_preds[i][0]:\n",
        "    if test_preds[i][1]>=test_preds[i][2]:\n",
        "      if test_preds[i][1]>=test_preds[i][3]:\n",
        "        preds.append(1)\n",
        "  if test_preds[i][2]>=test_preds[i][1]:\n",
        "    if test_preds[i][2]>=test_preds[i][0]:\n",
        "      if test_preds[i][2]>=test_preds[i][3]:\n",
        "        preds.append(2)\n",
        "  if test_preds[i][3]>=test_preds[i][1]:\n",
        "    if test_preds[i][3]>=test_preds[i][2]:\n",
        "      if test_preds[i][3]>=test_preds[i][0]:\n",
        "        preds.append(3)\n",
        "\n"
      ],
      "metadata": {
        "id": "pXgEX_awbcwd"
      },
      "execution_count": null,
      "outputs": []
    },
    {
      "cell_type": "code",
      "source": [
        "target_test"
      ],
      "metadata": {
        "id": "vQjDUr3DbUzo",
        "colab": {
          "base_uri": "https://localhost:8080/"
        },
        "outputId": "6c675ba2-9f71-41d4-8f38-d4155a860fa8"
      },
      "execution_count": null,
      "outputs": [
        {
          "output_type": "execute_result",
          "data": {
            "text/plain": [
              "30000    3.0\n",
              "30001    2.0\n",
              "30002    1.0\n",
              "30003    2.0\n",
              "30004    1.0\n",
              "        ... \n",
              "39995    3.0\n",
              "39996    2.0\n",
              "39997    0.0\n",
              "39998    1.0\n",
              "39999    2.0\n",
              "Name: label, Length: 10000, dtype: float64"
            ]
          },
          "metadata": {},
          "execution_count": 49
        }
      ]
    },
    {
      "cell_type": "code",
      "source": [
        "accuracy_score(target_test, preds)"
      ],
      "metadata": {
        "id": "7Phzax6jcPuh",
        "colab": {
          "base_uri": "https://localhost:8080/"
        },
        "outputId": "5f7e82cc-37ad-41cd-d16e-bb5a1b3b3731"
      },
      "execution_count": null,
      "outputs": [
        {
          "output_type": "execute_result",
          "data": {
            "text/plain": [
              "0.9123"
            ]
          },
          "metadata": {},
          "execution_count": 50
        }
      ]
    },
    {
      "cell_type": "code",
      "source": [],
      "metadata": {
        "id": "mDSYa8HEkPYL"
      },
      "execution_count": null,
      "outputs": []
    }
  ]
}